{
  "nbformat": 4,
  "nbformat_minor": 0,
  "metadata": {
    "colab": {
      "name": "S4 PostWork.ipynb",
      "provenance": [],
      "collapsed_sections": []
    },
    "kernelspec": {
      "name": "python3",
      "display_name": "Python 3"
    }
  },
  "cells": [
    {
      "cell_type": "markdown",
      "metadata": {
        "id": "dCI1iW-QOL1n"
      },
      "source": [
        "#**Postwork Sesión 4: Análisis Exploratorio de nuestro Dataset**\r\n",
        "\r\n",
        "\r\n",
        "###Equipo 23\r\n",
        "\r\n",
        "* Francisco Ricardo Arredondo Almuina - frankk_arredondo@hotmail.com\r\n",
        "* Tamara Ytanyu Pérez Vázquez - tamara.ytanyu@gmail.com\r\n",
        "* Jesus Emanuel Serrano Molina - emanuel.serm@gmail.com\r\n",
        "* Carlos Eduardo Vidal Villeda - charlie.lalo@hotmail.com\r\n",
        "\r\n",
        "\r\n",
        "#Desarrollo\r\n",
        "En este Postwork vamos a empezar a analizar nuestro conjunto de datos usando pandas. Sé que hasta ahora sólo hemos revisado cómo leer archivos tipo JSON usando pandas. El módulo está diseñado para aprender los diferentes tipos de formatos y explorar nuevas fuentes de datos en el momento en el que sean más apropiadas. En caso de que tu dataset tenga algún formato distinto a JSON, pídele ayuda a tu experto para que te guíe rápidamente en el proceso de lectura de tus datos. Tu experto puede proveerte código para que rápidamente puedas convertir tu conjunto de datos a un DataFrame. Algunas de las preguntas que estamos intentando responder en esta exploración son las siguientes:\r\n",
        "Responde estas preguntas usando las técnicas que aprendiste en esta sesión y comparte tus hallazgos con tus compañeros y tu experto.\r\n",
        "\r\n",
        "**¿El conjunto de datos que tengo realmente me sirve para responder algunas de las preguntas que me planteé?**"
      ]
    },
    {
      "cell_type": "code",
      "metadata": {
        "id": "iuysSU6ROJwa"
      },
      "source": [
        "import pandas as pd\r\n",
        "import numpy as np\r\n"
      ],
      "execution_count": 1,
      "outputs": []
    },
    {
      "cell_type": "code",
      "metadata": {
        "id": "iy_mcAyqQUv2",
        "colab": {
          "base_uri": "https://localhost:8080/"
        },
        "outputId": "2d65071e-45d6-4fe2-aaa8-c75f1b9385c9"
      },
      "source": [
        "#previamente se cargaron nuestros archivos csv a una cuenta de google drive\r\n",
        "from google.colab import drive\r\n",
        "drive.mount('/content/drive/')\r\n",
        "!ls \"/content/drive/MyDrive/Data_Proy\""
      ],
      "execution_count": 3,
      "outputs": [
        {
          "output_type": "stream",
          "text": [
            "Mounted at /content/drive/\n",
            "Estatal-Delitos-2015-2021_ene2021.csv  Municipal-Delitos-2015-2021_ene2021.csv\n"
          ],
          "name": "stdout"
        }
      ]
    },
    {
      "cell_type": "code",
      "metadata": {
        "id": "I_Fvuu_ZvPcR"
      },
      "source": [
        "df_mex_estados = pd.read_csv(\"/content/drive/MyDrive/Data_Proy/Estatal-Delitos-2015-2021_ene2021.csv\", encoding=\"latin-1\")\r\n",
        "df_mex_municipios = pd.read_csv(\"/content/drive/MyDrive/Data_Proy/Municipal-Delitos-2015-2021_ene2021.csv\", encoding=\"latin-1\")"
      ],
      "execution_count": 4,
      "outputs": []
    },
    {
      "cell_type": "code",
      "metadata": {
        "colab": {
          "base_uri": "https://localhost:8080/",
          "height": 269
        },
        "id": "MEhkui93-_Im",
        "outputId": "b7af029a-9a87-4165-c135-848ef7a38b5e"
      },
      "source": [
        "df_estados = pd.DataFrame(df_mex_estados)\r\n",
        "df_estados.head(2)"
      ],
      "execution_count": 10,
      "outputs": [
        {
          "output_type": "execute_result",
          "data": {
            "text/html": [
              "<div>\n",
              "<style scoped>\n",
              "    .dataframe tbody tr th:only-of-type {\n",
              "        vertical-align: middle;\n",
              "    }\n",
              "\n",
              "    .dataframe tbody tr th {\n",
              "        vertical-align: top;\n",
              "    }\n",
              "\n",
              "    .dataframe thead th {\n",
              "        text-align: right;\n",
              "    }\n",
              "</style>\n",
              "<table border=\"1\" class=\"dataframe\">\n",
              "  <thead>\n",
              "    <tr style=\"text-align: right;\">\n",
              "      <th></th>\n",
              "      <th>Año</th>\n",
              "      <th>Clave_Ent</th>\n",
              "      <th>Entidad</th>\n",
              "      <th>Bien jurídico afectado</th>\n",
              "      <th>Tipo de delito</th>\n",
              "      <th>Subtipo de delito</th>\n",
              "      <th>Modalidad</th>\n",
              "      <th>Enero</th>\n",
              "      <th>Febrero</th>\n",
              "      <th>Marzo</th>\n",
              "      <th>Abril</th>\n",
              "      <th>Mayo</th>\n",
              "      <th>Junio</th>\n",
              "      <th>Julio</th>\n",
              "      <th>Agosto</th>\n",
              "      <th>Septiembre</th>\n",
              "      <th>Octubre</th>\n",
              "      <th>Noviembre</th>\n",
              "      <th>Diciembre</th>\n",
              "    </tr>\n",
              "  </thead>\n",
              "  <tbody>\n",
              "    <tr>\n",
              "      <th>0</th>\n",
              "      <td>2015</td>\n",
              "      <td>1</td>\n",
              "      <td>Aguascalientes</td>\n",
              "      <td>La vida y la Integridad corporal</td>\n",
              "      <td>Homicidio</td>\n",
              "      <td>Homicidio doloso</td>\n",
              "      <td>Con arma de fuego</td>\n",
              "      <td>3</td>\n",
              "      <td>0</td>\n",
              "      <td>2</td>\n",
              "      <td>1</td>\n",
              "      <td>1</td>\n",
              "      <td>1</td>\n",
              "      <td>2</td>\n",
              "      <td>1</td>\n",
              "      <td>2</td>\n",
              "      <td>2</td>\n",
              "      <td>2.0</td>\n",
              "      <td>1.0</td>\n",
              "    </tr>\n",
              "    <tr>\n",
              "      <th>1</th>\n",
              "      <td>2015</td>\n",
              "      <td>1</td>\n",
              "      <td>Aguascalientes</td>\n",
              "      <td>La vida y la Integridad corporal</td>\n",
              "      <td>Homicidio</td>\n",
              "      <td>Homicidio doloso</td>\n",
              "      <td>Con arma blanca</td>\n",
              "      <td>1</td>\n",
              "      <td>1</td>\n",
              "      <td>0</td>\n",
              "      <td>0</td>\n",
              "      <td>0</td>\n",
              "      <td>1</td>\n",
              "      <td>0</td>\n",
              "      <td>1</td>\n",
              "      <td>0</td>\n",
              "      <td>0</td>\n",
              "      <td>0.0</td>\n",
              "      <td>1.0</td>\n",
              "    </tr>\n",
              "  </tbody>\n",
              "</table>\n",
              "</div>"
            ],
            "text/plain": [
              "    Año  Clave_Ent         Entidad  ... Octubre Noviembre Diciembre\n",
              "0  2015          1  Aguascalientes  ...       2       2.0       1.0\n",
              "1  2015          1  Aguascalientes  ...       0       0.0       1.0\n",
              "\n",
              "[2 rows x 19 columns]"
            ]
          },
          "metadata": {
            "tags": []
          },
          "execution_count": 10
        }
      ]
    },
    {
      "cell_type": "code",
      "metadata": {
        "colab": {
          "base_uri": "https://localhost:8080/",
          "height": 269
        },
        "id": "aLGaSPMt9Se-",
        "outputId": "14c22f7b-e5f7-4b68-e2ff-9619e5f2e6e7"
      },
      "source": [
        "df_municipios = pd.DataFrame(df_mex_municipios)\r\n",
        "df_municipios.head(2)"
      ],
      "execution_count": 11,
      "outputs": [
        {
          "output_type": "execute_result",
          "data": {
            "text/html": [
              "<div>\n",
              "<style scoped>\n",
              "    .dataframe tbody tr th:only-of-type {\n",
              "        vertical-align: middle;\n",
              "    }\n",
              "\n",
              "    .dataframe tbody tr th {\n",
              "        vertical-align: top;\n",
              "    }\n",
              "\n",
              "    .dataframe thead th {\n",
              "        text-align: right;\n",
              "    }\n",
              "</style>\n",
              "<table border=\"1\" class=\"dataframe\">\n",
              "  <thead>\n",
              "    <tr style=\"text-align: right;\">\n",
              "      <th></th>\n",
              "      <th>Año</th>\n",
              "      <th>Clave_Ent</th>\n",
              "      <th>Entidad</th>\n",
              "      <th>Cve. Municipio</th>\n",
              "      <th>Municipio</th>\n",
              "      <th>Bien jurídico afectado</th>\n",
              "      <th>Tipo de delito</th>\n",
              "      <th>Subtipo de delito</th>\n",
              "      <th>Modalidad</th>\n",
              "      <th>Enero</th>\n",
              "      <th>Febrero</th>\n",
              "      <th>Marzo</th>\n",
              "      <th>Abril</th>\n",
              "      <th>Mayo</th>\n",
              "      <th>Junio</th>\n",
              "      <th>Julio</th>\n",
              "      <th>Agosto</th>\n",
              "      <th>Septiembre</th>\n",
              "      <th>Octubre</th>\n",
              "      <th>Noviembre</th>\n",
              "      <th>Diciembre</th>\n",
              "    </tr>\n",
              "  </thead>\n",
              "  <tbody>\n",
              "    <tr>\n",
              "      <th>0</th>\n",
              "      <td>2015</td>\n",
              "      <td>1</td>\n",
              "      <td>Aguascalientes</td>\n",
              "      <td>1001</td>\n",
              "      <td>Aguascalientes</td>\n",
              "      <td>La vida y la Integridad corporal</td>\n",
              "      <td>Homicidio</td>\n",
              "      <td>Homicidio doloso</td>\n",
              "      <td>Con arma de fuego</td>\n",
              "      <td>2</td>\n",
              "      <td>0.0</td>\n",
              "      <td>1.0</td>\n",
              "      <td>1.0</td>\n",
              "      <td>0.0</td>\n",
              "      <td>1.0</td>\n",
              "      <td>1.0</td>\n",
              "      <td>0.0</td>\n",
              "      <td>2.0</td>\n",
              "      <td>1.0</td>\n",
              "      <td>0.0</td>\n",
              "      <td>1.0</td>\n",
              "    </tr>\n",
              "    <tr>\n",
              "      <th>1</th>\n",
              "      <td>2015</td>\n",
              "      <td>1</td>\n",
              "      <td>Aguascalientes</td>\n",
              "      <td>1001</td>\n",
              "      <td>Aguascalientes</td>\n",
              "      <td>La vida y la Integridad corporal</td>\n",
              "      <td>Homicidio</td>\n",
              "      <td>Homicidio doloso</td>\n",
              "      <td>Con arma blanca</td>\n",
              "      <td>1</td>\n",
              "      <td>1.0</td>\n",
              "      <td>0.0</td>\n",
              "      <td>0.0</td>\n",
              "      <td>0.0</td>\n",
              "      <td>1.0</td>\n",
              "      <td>0.0</td>\n",
              "      <td>1.0</td>\n",
              "      <td>0.0</td>\n",
              "      <td>0.0</td>\n",
              "      <td>0.0</td>\n",
              "      <td>0.0</td>\n",
              "    </tr>\n",
              "  </tbody>\n",
              "</table>\n",
              "</div>"
            ],
            "text/plain": [
              "    Año  Clave_Ent         Entidad  ...  Octubre Noviembre Diciembre\n",
              "0  2015          1  Aguascalientes  ...      1.0       0.0       1.0\n",
              "1  2015          1  Aguascalientes  ...      0.0       0.0       0.0\n",
              "\n",
              "[2 rows x 21 columns]"
            ]
          },
          "metadata": {
            "tags": []
          },
          "execution_count": 11
        }
      ]
    },
    {
      "cell_type": "code",
      "metadata": {
        "colab": {
          "base_uri": "https://localhost:8080/",
          "height": 338
        },
        "id": "6b7hwAZhHY6s",
        "outputId": "0f320643-f0a5-440f-ebdf-941b4db344b4"
      },
      "source": [
        "df_municipios.tail(2)"
      ],
      "execution_count": 23,
      "outputs": [
        {
          "output_type": "execute_result",
          "data": {
            "text/html": [
              "<div>\n",
              "<style scoped>\n",
              "    .dataframe tbody tr th:only-of-type {\n",
              "        vertical-align: middle;\n",
              "    }\n",
              "\n",
              "    .dataframe tbody tr th {\n",
              "        vertical-align: top;\n",
              "    }\n",
              "\n",
              "    .dataframe thead th {\n",
              "        text-align: right;\n",
              "    }\n",
              "</style>\n",
              "<table border=\"1\" class=\"dataframe\">\n",
              "  <thead>\n",
              "    <tr style=\"text-align: right;\">\n",
              "      <th></th>\n",
              "      <th>Año</th>\n",
              "      <th>Clave_Ent</th>\n",
              "      <th>Entidad</th>\n",
              "      <th>Cve. Municipio</th>\n",
              "      <th>Municipio</th>\n",
              "      <th>Bien jurídico afectado</th>\n",
              "      <th>Tipo de delito</th>\n",
              "      <th>Subtipo de delito</th>\n",
              "      <th>Modalidad</th>\n",
              "      <th>Enero</th>\n",
              "      <th>Febrero</th>\n",
              "      <th>Marzo</th>\n",
              "      <th>Abril</th>\n",
              "      <th>Mayo</th>\n",
              "      <th>Junio</th>\n",
              "      <th>Julio</th>\n",
              "      <th>Agosto</th>\n",
              "      <th>Septiembre</th>\n",
              "      <th>Octubre</th>\n",
              "      <th>Noviembre</th>\n",
              "      <th>Diciembre</th>\n",
              "    </tr>\n",
              "  </thead>\n",
              "  <tbody>\n",
              "    <tr>\n",
              "      <th>1588774</th>\n",
              "      <td>2021</td>\n",
              "      <td>32</td>\n",
              "      <td>Zacatecas</td>\n",
              "      <td>32058</td>\n",
              "      <td>Santa María de la Paz</td>\n",
              "      <td>Otros bienes jurídicos afectados (del fuero co...</td>\n",
              "      <td>Electorales</td>\n",
              "      <td>Electorales</td>\n",
              "      <td>Electorales</td>\n",
              "      <td>0</td>\n",
              "      <td>NaN</td>\n",
              "      <td>NaN</td>\n",
              "      <td>NaN</td>\n",
              "      <td>NaN</td>\n",
              "      <td>NaN</td>\n",
              "      <td>NaN</td>\n",
              "      <td>NaN</td>\n",
              "      <td>NaN</td>\n",
              "      <td>NaN</td>\n",
              "      <td>NaN</td>\n",
              "      <td>NaN</td>\n",
              "    </tr>\n",
              "    <tr>\n",
              "      <th>1588775</th>\n",
              "      <td>2021</td>\n",
              "      <td>32</td>\n",
              "      <td>Zacatecas</td>\n",
              "      <td>32058</td>\n",
              "      <td>Santa María de la Paz</td>\n",
              "      <td>Otros bienes jurídicos afectados (del fuero co...</td>\n",
              "      <td>Otros delitos del Fuero Común</td>\n",
              "      <td>Otros delitos del Fuero Común</td>\n",
              "      <td>Otros delitos del Fuero Común</td>\n",
              "      <td>0</td>\n",
              "      <td>NaN</td>\n",
              "      <td>NaN</td>\n",
              "      <td>NaN</td>\n",
              "      <td>NaN</td>\n",
              "      <td>NaN</td>\n",
              "      <td>NaN</td>\n",
              "      <td>NaN</td>\n",
              "      <td>NaN</td>\n",
              "      <td>NaN</td>\n",
              "      <td>NaN</td>\n",
              "      <td>NaN</td>\n",
              "    </tr>\n",
              "  </tbody>\n",
              "</table>\n",
              "</div>"
            ],
            "text/plain": [
              "          Año  Clave_Ent    Entidad  ...  Octubre Noviembre Diciembre\n",
              "1588774  2021         32  Zacatecas  ...      NaN       NaN       NaN\n",
              "1588775  2021         32  Zacatecas  ...      NaN       NaN       NaN\n",
              "\n",
              "[2 rows x 21 columns]"
            ]
          },
          "metadata": {
            "tags": []
          },
          "execution_count": 23
        }
      ]
    },
    {
      "cell_type": "markdown",
      "metadata": {
        "id": "lfaDpmt69XTx"
      },
      "source": [
        "_*Con un análisis rápido de nuestros data sets encotramos datos que incluyen información relevante a nuestra investigación, como lo son: tipos de delitos, estado de la República mexicana en donde ocurrieron y fecha en la que ocurrieron.\r\n",
        "Por lo tanto podemos ser positivos de que nuestras preguntas serán respondidas*_\r\n"
      ]
    },
    {
      "cell_type": "markdown",
      "metadata": {
        "id": "QEHZaqzFO2bX"
      },
      "source": [
        "**¿Qué tamaño tiene mi conjunto de datos? ¿Serán datos suficientes?**"
      ]
    },
    {
      "cell_type": "code",
      "metadata": {
        "colab": {
          "base_uri": "https://localhost:8080/"
        },
        "id": "KZNqYKnm-tlC",
        "outputId": "01e1c666-3099-43ac-a3b8-73658a0f71f5"
      },
      "source": [
        "df_estados.shape"
      ],
      "execution_count": 12,
      "outputs": [
        {
          "output_type": "execute_result",
          "data": {
            "text/plain": [
              "(21952, 19)"
            ]
          },
          "metadata": {
            "tags": []
          },
          "execution_count": 12
        }
      ]
    },
    {
      "cell_type": "code",
      "metadata": {
        "id": "aYugxLEiO3RV",
        "colab": {
          "base_uri": "https://localhost:8080/"
        },
        "outputId": "2cbe889a-5076-4a8a-948c-29014287eee6"
      },
      "source": [
        "df_municipios.shape"
      ],
      "execution_count": 13,
      "outputs": [
        {
          "output_type": "execute_result",
          "data": {
            "text/plain": [
              "(1588776, 21)"
            ]
          },
          "metadata": {
            "tags": []
          },
          "execution_count": 13
        }
      ]
    },
    {
      "cell_type": "markdown",
      "metadata": {
        "id": "bqnVmRzDCtLr"
      },
      "source": [
        "*Vemos que nuestro data frame **`df_estados`** tiene 19 columnas y 21952 filas,, mientras que el data frame **`df_municipios`** cuenta con 21 columnas y 1588776 filas, esta diferencia de filas es posible que se deba a que nuestro segundo data frame agrega la información en donde los actos de violencia fueron registrados (columna de municipios).\r\n",
        "Debido a esto y a que ambos data sets fueron obtenidos del mismo lugar, en adelante solo se considerará **`df_municipios`** ya que la información está más completa agragando el campo de los municipios, mientras que **`df_estados`** es una recopilación de estos y estaríamos cometiendo un error de replica de datos*"
      ]
    },
    {
      "cell_type": "markdown",
      "metadata": {
        "id": "NWmkDP2YOLFM"
      },
      "source": [
        "**¿Qué columnas tengo y qué información tengo en cada una de esas columnas?**"
      ]
    },
    {
      "cell_type": "code",
      "metadata": {
        "id": "bPFjtk6iO3wM",
        "colab": {
          "base_uri": "https://localhost:8080/"
        },
        "outputId": "7674a9a8-a771-4b80-f3b8-6bb0c1852cc3"
      },
      "source": [
        "df_municipios.columns"
      ],
      "execution_count": 14,
      "outputs": [
        {
          "output_type": "execute_result",
          "data": {
            "text/plain": [
              "Index(['Año', 'Clave_Ent', 'Entidad', 'Cve. Municipio', 'Municipio',\n",
              "       'Bien jurídico afectado', 'Tipo de delito', 'Subtipo de delito',\n",
              "       'Modalidad', 'Enero', 'Febrero', 'Marzo', 'Abril', 'Mayo', 'Junio',\n",
              "       'Julio', 'Agosto', 'Septiembre', 'Octubre', 'Noviembre', 'Diciembre'],\n",
              "      dtype='object')"
            ]
          },
          "metadata": {
            "tags": []
          },
          "execution_count": 14
        }
      ]
    },
    {
      "cell_type": "markdown",
      "metadata": {
        "id": "sb6qN9NAG34p"
      },
      "source": [
        "- En la columna **`Año`** tenemos registros que empiezan en el 2015 y llegan hasta el 2021.\r\n",
        "- En **`Entidad`** yacen los nombres de los estados donde ocurren los hechos mientras que **`Caleve_Ent`** es la calve federativa de este estado.\r\n",
        "- Así en **`Municipio`** se agregan el municipio del estado correspondiente y **`Cve. Municipio`** es su clave única.\r\n",
        "- **`Bien jurídico afectado`** , **`Tipo de delito`**, **`Subtipo de delito`** y **`Modalidad`** son columnas que describen los delitos registrados.\r\n",
        "- Las columnas de **`Enero`**, **`Febrero`**, **`Marzo`**, **`Abril`**, **`Mayo`**, **`Junio`**, **`Julio`**, **`Agosto`**, **`Septiembre`**, **`Octubre`**, **`Noviembre`**, **`Diciembre`** son las sumas acumuladas de los registros por tipos de delito.\r\n"
      ]
    },
    {
      "cell_type": "markdown",
      "metadata": {
        "id": "IGT7kMBSO4Hm"
      },
      "source": [
        "**Los nombres que tienen mis columnas, ¿son el nombre más apropiado?** "
      ]
    },
    {
      "cell_type": "markdown",
      "metadata": {
        "id": "tf3PgQK_Jsok"
      },
      "source": [
        "- *Si, son descriptivas, simples y van de acuerdo a a la información que queremos obtener*"
      ]
    },
    {
      "cell_type": "markdown",
      "metadata": {
        "id": "_D-jNJyhPZ2O"
      },
      "source": [
        "**¿Qué tipos de datos tengo en cada columna? ¿Parecen ser el tipo correcto de datos? ¿O es un tipo de datos \"incorrecto\"?** "
      ]
    },
    {
      "cell_type": "code",
      "metadata": {
        "id": "rMMA2n2QPaXE",
        "colab": {
          "base_uri": "https://localhost:8080/"
        },
        "outputId": "bbdc65d7-fa96-465c-f7e8-ccd94a83f2b7"
      },
      "source": [
        "df_municipios.dtypes"
      ],
      "execution_count": 20,
      "outputs": [
        {
          "output_type": "execute_result",
          "data": {
            "text/plain": [
              "Año                         int64\n",
              "Clave_Ent                   int64\n",
              "Entidad                    object\n",
              "Cve. Municipio              int64\n",
              "Municipio                  object\n",
              "Bien jurídico afectado     object\n",
              "Tipo de delito             object\n",
              "Subtipo de delito          object\n",
              "Modalidad                  object\n",
              "Enero                       int64\n",
              "Febrero                   float64\n",
              "Marzo                     float64\n",
              "Abril                     float64\n",
              "Mayo                      float64\n",
              "Junio                     float64\n",
              "Julio                     float64\n",
              "Agosto                    float64\n",
              "Septiembre                float64\n",
              "Octubre                   float64\n",
              "Noviembre                 float64\n",
              "Diciembre                 float64\n",
              "dtype: object"
            ]
          },
          "metadata": {
            "tags": []
          },
          "execution_count": 20
        }
      ]
    },
    {
      "cell_type": "markdown",
      "metadata": {
        "id": "HD3Ai9YqKJKl"
      },
      "source": [
        "- *Las columnas tienen el tipo de dato correcto, especialmente nos interesa que las columnas de fecha como `Año` y los casos acumulados sean datos de tipo númerico.*"
      ]
    },
    {
      "cell_type": "markdown",
      "metadata": {
        "id": "yEp_AZ3iPazv"
      },
      "source": [
        "**Si selecciono algunas filas al azar y las observo, ¿estoy obteniendo los datos que debería? ¿o hay datos que parecen estar \"sucios\" o \"incorrectos\"?** "
      ]
    },
    {
      "cell_type": "code",
      "metadata": {
        "id": "OU3PfuhxPbfn",
        "colab": {
          "base_uri": "https://localhost:8080/",
          "height": 202
        },
        "outputId": "e8ab1e74-af53-4f97-d9c8-089524f55d22"
      },
      "source": [
        "df_municipios.loc[[0,231,1112,45932,1588775], ['Año', 'Entidad', 'Municipio', 'Tipo de delito','Modalidad', 'Enero' ]]"
      ],
      "execution_count": 22,
      "outputs": [
        {
          "output_type": "execute_result",
          "data": {
            "text/html": [
              "<div>\n",
              "<style scoped>\n",
              "    .dataframe tbody tr th:only-of-type {\n",
              "        vertical-align: middle;\n",
              "    }\n",
              "\n",
              "    .dataframe tbody tr th {\n",
              "        vertical-align: top;\n",
              "    }\n",
              "\n",
              "    .dataframe thead th {\n",
              "        text-align: right;\n",
              "    }\n",
              "</style>\n",
              "<table border=\"1\" class=\"dataframe\">\n",
              "  <thead>\n",
              "    <tr style=\"text-align: right;\">\n",
              "      <th></th>\n",
              "      <th>Año</th>\n",
              "      <th>Entidad</th>\n",
              "      <th>Municipio</th>\n",
              "      <th>Tipo de delito</th>\n",
              "      <th>Modalidad</th>\n",
              "      <th>Enero</th>\n",
              "    </tr>\n",
              "  </thead>\n",
              "  <tbody>\n",
              "    <tr>\n",
              "      <th>0</th>\n",
              "      <td>2015</td>\n",
              "      <td>Aguascalientes</td>\n",
              "      <td>Aguascalientes</td>\n",
              "      <td>Homicidio</td>\n",
              "      <td>Con arma de fuego</td>\n",
              "      <td>2</td>\n",
              "    </tr>\n",
              "    <tr>\n",
              "      <th>231</th>\n",
              "      <td>2015</td>\n",
              "      <td>Aguascalientes</td>\n",
              "      <td>Calvillo</td>\n",
              "      <td>Violación simple</td>\n",
              "      <td>Violación simple</td>\n",
              "      <td>0</td>\n",
              "    </tr>\n",
              "    <tr>\n",
              "      <th>1112</th>\n",
              "      <td>2015</td>\n",
              "      <td>Baja California</td>\n",
              "      <td>Ensenada</td>\n",
              "      <td>Hostigamiento sexual</td>\n",
              "      <td>Hostigamiento sexual</td>\n",
              "      <td>4</td>\n",
              "    </tr>\n",
              "    <tr>\n",
              "      <th>45932</th>\n",
              "      <td>2015</td>\n",
              "      <td>Hidalgo</td>\n",
              "      <td>Emiliano Zapata</td>\n",
              "      <td>Robo</td>\n",
              "      <td>Robo de herramienta industrial o agrícola Sin ...</td>\n",
              "      <td>0</td>\n",
              "    </tr>\n",
              "    <tr>\n",
              "      <th>1588775</th>\n",
              "      <td>2021</td>\n",
              "      <td>Zacatecas</td>\n",
              "      <td>Santa María de la Paz</td>\n",
              "      <td>Otros delitos del Fuero Común</td>\n",
              "      <td>Otros delitos del Fuero Común</td>\n",
              "      <td>0</td>\n",
              "    </tr>\n",
              "  </tbody>\n",
              "</table>\n",
              "</div>"
            ],
            "text/plain": [
              "          Año  ... Enero\n",
              "0        2015  ...     2\n",
              "231      2015  ...     0\n",
              "1112     2015  ...     4\n",
              "45932    2015  ...     0\n",
              "1588775  2021  ...     0\n",
              "\n",
              "[5 rows x 6 columns]"
            ]
          },
          "metadata": {
            "tags": []
          },
          "execution_count": 22
        }
      ]
    },
    {
      "cell_type": "markdown",
      "metadata": {
        "id": "hT6CakauMt47"
      },
      "source": [
        "- *Hasta el momento todo parece ser correcto, los datos no muestran estar sucios*"
      ]
    },
    {
      "cell_type": "code",
      "metadata": {
        "id": "cjLrBmTiMmr6"
      },
      "source": [
        ""
      ],
      "execution_count": null,
      "outputs": []
    }
  ]
}