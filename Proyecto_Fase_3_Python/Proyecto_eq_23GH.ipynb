{
  "nbformat": 4,
  "nbformat_minor": 0,
  "metadata": {
    "colab": {
      "name": "Proyecto_eq_23.ipynb",
      "provenance": [],
      "collapsed_sections": []
    },
    "kernelspec": {
      "name": "python3",
      "display_name": "Python 3"
    }
  },
  "cells": [
    {
      "cell_type": "markdown",
      "metadata": {
        "id": "M-y7toeQNnym"
      },
      "source": [
        "#**Proyecto: Casos de violencia familiar y  su relación con el aislamiento por COVID-19 **\r\n",
        "\r\n",
        "\r\n",
        "###Equipo 23\r\n",
        "\r\n",
        "* Francisco Ricardo Arredondo Almuina - frankk_arredondo@hotmail.com\r\n",
        "* Jesus Emanuel Serrano Molina - emanuel.serm@gmail.com\r\n",
        "* Carlos Eduardo Vidal Villeda - charlie.lalo@hotmail.com"
      ]
    },
    {
      "cell_type": "markdown",
      "metadata": {
        "id": "rHIZUa0bgSH5"
      },
      "source": [
        "#  **IDENTIFICACIÓN DEL PROBLEMA**\r\n",
        "\r\n",
        "## Problemáticas\r\n",
        "\r\n",
        "1. Violencia familiar en tiempos de COVID – 19\r\n",
        "\r\n",
        "2. Violencia de género en tiempos de COVID – 19\r\n",
        "\r\n",
        "## Investigación \r\n",
        "- Díaz Olavarrieta, C., & Phillips, V. (s.f.). COVID-19 y Violencia Basada en Género/Violencia Intrafamiliar. Recuperado el 24 de Febrero de 2021, de ACADEMIA NACIONAL DE MEDICINA DE MÉXICO: https://www.anmm.org.mx/descargas/COVID-19-y-Violencia-Basada-en-Genero-Violencia-Intrafamiliar.pdf\r\n",
        "\r\n",
        "- EQUIS Justicia para las Mujeres, l. R. (s.f.). LAS DOS PANDEMIAS: VIOLENCIA CONTRA LAS MUJERES EN MÉXICO EN EL CONTEXTO DEL COVID-19. Recuperado el 24 de Febrero de 2021, de EQUIS Justicia para las Mujeres: https://equis.org.mx/wp-content/uploads/2020/08/informe-dospandemiasmexico.pdf\r\n",
        "\r\n",
        "- Fenández Nicto, B. (3 de Mayo de 2020). Violencia Doméstica en México durante el confinamiento por la pandemia COVID-19. (I. Yánez Soria, & M. Antonia Bravo, Editores) Recuperado el 24 de Febrero de 2021, de DATA-POP ALLIANCE: https://datapopalliance.org/violencia-domestica-en-mexico-durante-el-confinamiento-por-la-pandemia-covid-19/\r\n",
        "\r\n",
        "- Gómez Macfarland, C. A., & Sánchez Ramírez, M. C. (Junio de 2020). Violencia familiar en tiempos de Covid. Recuperado el 24 de Febrero de 2021, de Instituto Belisario Domínguez: http://bibliodigitalibd.senado.gob.mx/bitstream/handle/123456789/4891/ML_187.pdf?sequence=1&isAllowed=y\r\n",
        "\r\n",
        "- Llamas Caballero, R. (s.f.). Violencia doméstica y de género en tiempos de COVID-19. Recuperado el 24 de Febrero de 2021, de Anáhuac México: https://www.anahuac.mx/mexico/noticias/Violencia-domestica-y-de-genero-en-tiempos-de-COVID-19\r\n",
        "\r\n",
        "- Monroy, J. (16 de Abril de 2020). Segob: violencia intrafamiliar aumentó 120% desde la emergencia del Covid-19. Recuperado el 24 de Febrero de 2021, de EL ECONOMISTA: https://www.eleconomista.com.mx/politica/Segob-violencia-intrafamiliar-aumento-120-desde-la-emergencia-del-Covid-19-20200416-0111.html\r\n",
        "\r\n",
        "- Núñez Trejo, A. (7 de Junio de 2020). Crece la violencia intrafamiliar en México, por el COVID-19. Recuperado el 24 de Febrero de 2021, de FORO JURÍDICO: https://forojuridico.mx/crece-la-violencia-intrafamiliar-en-mexico-por-el-covid-19/\r\n",
        "\r\n",
        "- Rodríguez Pedraza, Y. (2020). La feminización de la pandemia COVID19. Recuperado el 24 de Febrero de 2021, de Redalyc: https://www.redalyc.org/articulo.oa?id=29063559023\r\n",
        "\r\n",
        "## Medidas ante las problemáticas \r\n",
        "\r\n",
        "\r\n",
        "\r\n",
        "*   Órdenes de protección.\r\n",
        "*   Si identifica que usted experimenta una de las características del ciclo de la violencia, acuda al Agente del Ministerio Público y busque ayuda.\r\n",
        "*  Resguarde sus documentos, así como los de sus hijos, en una casa de algún familiar.\r\n",
        "*  Si su pareja o el agresor se pone violento, retírese inmediatamente.\r\n",
        "*  Acuda a buscar ayuda a las instituciones especializadas (UAVI, Unidad de Atención de Violencia Intrafamiliar, IJM Instituto Jalisciense de las Mujeres, DIF Municipales) para buscar refugio temporal\r\n",
        "*  Llame al 066 para pedir ayuda la policía.\r\n",
        "\r\n",
        "#### *Fuentes para medidas ante las problemáticas*\r\n",
        "\r\n",
        "- Hernández, R. (s.f.). MEDIDAS PREVENTIVAS PARA EVITAR LA VIOLENCIA INTRAFAMILIAR. Recuperado el 25 de Febrero de 2021, de FISCALIA GENERAL DEL ESTADO. GOBIERNO DEL ESTADO DE JALISCO: https://fge.jalisco.gob.mx/prevencion-social/medidas-preventivas-para-evitar-la-violencia-intrafamiliar\r\n",
        "\r\n"
      ]
    },
    {
      "cell_type": "markdown",
      "metadata": {
        "id": "H2lPboE6jNbo"
      },
      "source": [
        "# **PLANTEAMIENTO DE PREGUNTAS CLAVE**\r\n",
        "\r\n",
        "### 1. ¿Cuáles son los estados con mayor violencia familiar en México?\r\n",
        "\r\n",
        "### 2. ¿Cuáles son los estados con menos incidencia de violencia familiar?\r\n",
        "\r\n",
        "### 3. ¿Cuál es el mes con mayor incidencia de violencia familiar?\r\n",
        "\r\n",
        "### 4. ¿Cuál es el año con mayor incidencia de violencia familiar?\r\n",
        "\r\n",
        "### 5. ¿Es cierto que en el 2020 el crecimiento en incidencia de violencia familiar aumento debido a la pandemia?\r\n",
        "\r\n",
        "### 6. ¿Este fenómeno se repitió en otros países o solo en México?"
      ]
    },
    {
      "cell_type": "markdown",
      "metadata": {
        "id": "WWCTiNY291mw"
      },
      "source": [
        "# **COLECCIÓN DE DATOS**\r\n",
        "La colección de datos es una parte fundamental dentro de un proyecto de ciencia de datos, siendo que es importante tener una fuente confiable y segura de los datos que van a ser sometidos a un análisis. Existen distintas fuentes para extraer bases de datos, entre las más destacadas se encuentran sitios como Kaggle, APIs públicas o privadas, Instituciones gubernamentales o privadas, entre otras.\r\n",
        "\r\n",
        "Siendo que nuestro proyecto esta dirigido a analizar la \"Violencia intrafamiliar en épocas de Pandemia\", es fundamental obtener nuestros datos de una fuente confiable y que realmente nos ayude a poder analizar los delitos cometidos en México.\r\n",
        "\r\n",
        "Para la obtención de los datos en cuanto a la República Mexicana fue usado el website del Gobierno de México, dado que para poder obtener los delitos en cada uno de los Estados y Municipios del país, deben de ser obtenido mediante una entidad gubernamental por temas de confidencialidad y resguardo de datos, por lo que en la siguiente dirección URL se encuentran los datos abiertos de incidencia delictiva en los últimos 5 años:\r\n",
        "\r\n",
        "https://drive.google.com/file/d/1CW1dhLMF0QLZ4vXUTMiBrbj-O53Y9XpL/view?usp=sharing\r\n",
        "\r\n",
        "Cabe destacar que dicha dirección contiene dos archivos .CSV con los distintos delitos cometidos en los diferentes Estados de la República Mexicana, asimismo como en cada Municipio de los mismos, lo cual posteriormente nos brindará un análisis más completo de acuerdo con el fin del proyecto.\r\n",
        "\r\n",
        "Para leer lor achivos mencionados en Python, es posible realizarlo mediante dos maneras, importandolo desde los archivos guardados de la computadora, o previamente haberlo guardado en Google Drive e importarlo directamente a Google Colaboratory. Ambas maneras consiguen obtener los archivos .CSV que servirán para realizar un Análisis Exploratorio, Limpieza y Transformación de nuestros datos."
      ]
    },
    {
      "cell_type": "markdown",
      "metadata": {
        "id": "7VPhSrw91C_Z"
      },
      "source": [
        "###**Import from Files**"
      ]
    },
    {
      "cell_type": "markdown",
      "metadata": {
        "id": "wdwKFo6DuNkf"
      },
      "source": [
        "Primeramente se importaron las librerías necesarias."
      ]
    },
    {
      "cell_type": "code",
      "metadata": {
        "id": "haNkfDIckn33"
      },
      "source": [
        "import pandas as pd"
      ],
      "execution_count": null,
      "outputs": []
    },
    {
      "cell_type": "markdown",
      "metadata": {
        "id": "H2gyEkWgmTvC"
      },
      "source": [
        "Después, tras ya tener los archivos correspondientes en nuestra computadora, correremos el siguiente código para poder elegir estos archivos y que Google colaboratory pueda leerlos y almacenarlos en los archivos de la Notebook."
      ]
    },
    {
      "cell_type": "code",
      "metadata": {
        "id": "bSwWZLv-cNYH"
      },
      "source": [
        "from google.colab import files\r\n",
        "files.upload()"
      ],
      "execution_count": null,
      "outputs": []
    },
    {
      "cell_type": "markdown",
      "metadata": {
        "id": "NbsJdTRkm_rI"
      },
      "source": [
        "Tras almacenar los datos dentro de los archivos del Notebook, copiaremos la ruta de los mismos para poder leerlos mediante pandas. Nombrando al dataframe con los datos de delincuencia de los Estados y Municipios de México como \"df_estados\" y \"df_municipios\", respectivamente.\r\n",
        "\r\n",
        "Cabe destacar que para que puedan ser leidos los documentos estos deben de tener un encoding de \"latin-1\" para que python pueda leerlo en base al idioma de los datos. "
      ]
    },
    {
      "cell_type": "code",
      "metadata": {
        "id": "NA3Pd2wxnKR5"
      },
      "source": [
        "df_estados = pd.read_csv(\"/content/Estatal-Delitos-2015-2021_ene2021.csv\", encoding=\"latin-1\")\r\n",
        "df_municipios = pd.read_csv(\"/content/Municipal-Delitos-2015-2021_ene2021.csv\", encoding=\"latin-1\")"
      ],
      "execution_count": null,
      "outputs": []
    },
    {
      "cell_type": "markdown",
      "metadata": {
        "id": "FGw9szHjoRE2"
      },
      "source": [
        "Finalmente para ver que nuestro dataframes fueron almacenados correctamente y explorar un poco su información se usó el comando \"head\""
      ]
    },
    {
      "cell_type": "code",
      "metadata": {
        "id": "7jFHIz1soYIG",
        "colab": {
          "base_uri": "https://localhost:8080/",
          "height": 269
        },
        "outputId": "ff96f6ff-a970-43cb-bb6f-bbefca79517d"
      },
      "source": [
        "df_estados.head(2)"
      ],
      "execution_count": null,
      "outputs": [
        {
          "output_type": "execute_result",
          "data": {
            "text/html": [
              "<div>\n",
              "<style scoped>\n",
              "    .dataframe tbody tr th:only-of-type {\n",
              "        vertical-align: middle;\n",
              "    }\n",
              "\n",
              "    .dataframe tbody tr th {\n",
              "        vertical-align: top;\n",
              "    }\n",
              "\n",
              "    .dataframe thead th {\n",
              "        text-align: right;\n",
              "    }\n",
              "</style>\n",
              "<table border=\"1\" class=\"dataframe\">\n",
              "  <thead>\n",
              "    <tr style=\"text-align: right;\">\n",
              "      <th></th>\n",
              "      <th>Año</th>\n",
              "      <th>Clave_Ent</th>\n",
              "      <th>Entidad</th>\n",
              "      <th>Bien jurídico afectado</th>\n",
              "      <th>Tipo de delito</th>\n",
              "      <th>Subtipo de delito</th>\n",
              "      <th>Modalidad</th>\n",
              "      <th>Enero</th>\n",
              "      <th>Febrero</th>\n",
              "      <th>Marzo</th>\n",
              "      <th>Abril</th>\n",
              "      <th>Mayo</th>\n",
              "      <th>Junio</th>\n",
              "      <th>Julio</th>\n",
              "      <th>Agosto</th>\n",
              "      <th>Septiembre</th>\n",
              "      <th>Octubre</th>\n",
              "      <th>Noviembre</th>\n",
              "      <th>Diciembre</th>\n",
              "    </tr>\n",
              "  </thead>\n",
              "  <tbody>\n",
              "    <tr>\n",
              "      <th>0</th>\n",
              "      <td>2015</td>\n",
              "      <td>1</td>\n",
              "      <td>Aguascalientes</td>\n",
              "      <td>La vida y la Integridad corporal</td>\n",
              "      <td>Homicidio</td>\n",
              "      <td>Homicidio doloso</td>\n",
              "      <td>Con arma de fuego</td>\n",
              "      <td>3</td>\n",
              "      <td>0</td>\n",
              "      <td>2</td>\n",
              "      <td>1</td>\n",
              "      <td>1</td>\n",
              "      <td>1</td>\n",
              "      <td>2</td>\n",
              "      <td>1</td>\n",
              "      <td>2</td>\n",
              "      <td>2</td>\n",
              "      <td>2.0</td>\n",
              "      <td>1.0</td>\n",
              "    </tr>\n",
              "    <tr>\n",
              "      <th>1</th>\n",
              "      <td>2015</td>\n",
              "      <td>1</td>\n",
              "      <td>Aguascalientes</td>\n",
              "      <td>La vida y la Integridad corporal</td>\n",
              "      <td>Homicidio</td>\n",
              "      <td>Homicidio doloso</td>\n",
              "      <td>Con arma blanca</td>\n",
              "      <td>1</td>\n",
              "      <td>1</td>\n",
              "      <td>0</td>\n",
              "      <td>0</td>\n",
              "      <td>0</td>\n",
              "      <td>1</td>\n",
              "      <td>0</td>\n",
              "      <td>1</td>\n",
              "      <td>0</td>\n",
              "      <td>0</td>\n",
              "      <td>0.0</td>\n",
              "      <td>1.0</td>\n",
              "    </tr>\n",
              "  </tbody>\n",
              "</table>\n",
              "</div>"
            ],
            "text/plain": [
              "    Año  Clave_Ent         Entidad  ... Octubre Noviembre Diciembre\n",
              "0  2015          1  Aguascalientes  ...       2       2.0       1.0\n",
              "1  2015          1  Aguascalientes  ...       0       0.0       1.0\n",
              "\n",
              "[2 rows x 19 columns]"
            ]
          },
          "metadata": {
            "tags": []
          },
          "execution_count": 10
        }
      ]
    },
    {
      "cell_type": "code",
      "metadata": {
        "id": "k77Ik4GPoZuI",
        "colab": {
          "base_uri": "https://localhost:8080/",
          "height": 269
        },
        "outputId": "49ea889b-af6f-4b87-c0fc-4fad7e7530f9"
      },
      "source": [
        "df_municipios.head(2)"
      ],
      "execution_count": null,
      "outputs": [
        {
          "output_type": "execute_result",
          "data": {
            "text/html": [
              "<div>\n",
              "<style scoped>\n",
              "    .dataframe tbody tr th:only-of-type {\n",
              "        vertical-align: middle;\n",
              "    }\n",
              "\n",
              "    .dataframe tbody tr th {\n",
              "        vertical-align: top;\n",
              "    }\n",
              "\n",
              "    .dataframe thead th {\n",
              "        text-align: right;\n",
              "    }\n",
              "</style>\n",
              "<table border=\"1\" class=\"dataframe\">\n",
              "  <thead>\n",
              "    <tr style=\"text-align: right;\">\n",
              "      <th></th>\n",
              "      <th>Año</th>\n",
              "      <th>Clave_Ent</th>\n",
              "      <th>Entidad</th>\n",
              "      <th>Cve. Municipio</th>\n",
              "      <th>Municipio</th>\n",
              "      <th>Bien jurídico afectado</th>\n",
              "      <th>Tipo de delito</th>\n",
              "      <th>Subtipo de delito</th>\n",
              "      <th>Modalidad</th>\n",
              "      <th>Enero</th>\n",
              "      <th>Febrero</th>\n",
              "      <th>Marzo</th>\n",
              "      <th>Abril</th>\n",
              "      <th>Mayo</th>\n",
              "      <th>Junio</th>\n",
              "      <th>Julio</th>\n",
              "      <th>Agosto</th>\n",
              "      <th>Septiembre</th>\n",
              "      <th>Octubre</th>\n",
              "      <th>Noviembre</th>\n",
              "      <th>Diciembre</th>\n",
              "    </tr>\n",
              "  </thead>\n",
              "  <tbody>\n",
              "    <tr>\n",
              "      <th>0</th>\n",
              "      <td>2015</td>\n",
              "      <td>1</td>\n",
              "      <td>Aguascalientes</td>\n",
              "      <td>1001</td>\n",
              "      <td>Aguascalientes</td>\n",
              "      <td>La vida y la Integridad corporal</td>\n",
              "      <td>Homicidio</td>\n",
              "      <td>Homicidio doloso</td>\n",
              "      <td>Con arma de fuego</td>\n",
              "      <td>2</td>\n",
              "      <td>0.0</td>\n",
              "      <td>1.0</td>\n",
              "      <td>1.0</td>\n",
              "      <td>0.0</td>\n",
              "      <td>1.0</td>\n",
              "      <td>1.0</td>\n",
              "      <td>0.0</td>\n",
              "      <td>2.0</td>\n",
              "      <td>1.0</td>\n",
              "      <td>0.0</td>\n",
              "      <td>1.0</td>\n",
              "    </tr>\n",
              "    <tr>\n",
              "      <th>1</th>\n",
              "      <td>2015</td>\n",
              "      <td>1</td>\n",
              "      <td>Aguascalientes</td>\n",
              "      <td>1001</td>\n",
              "      <td>Aguascalientes</td>\n",
              "      <td>La vida y la Integridad corporal</td>\n",
              "      <td>Homicidio</td>\n",
              "      <td>Homicidio doloso</td>\n",
              "      <td>Con arma blanca</td>\n",
              "      <td>1</td>\n",
              "      <td>1.0</td>\n",
              "      <td>0.0</td>\n",
              "      <td>0.0</td>\n",
              "      <td>0.0</td>\n",
              "      <td>1.0</td>\n",
              "      <td>0.0</td>\n",
              "      <td>1.0</td>\n",
              "      <td>0.0</td>\n",
              "      <td>0.0</td>\n",
              "      <td>0.0</td>\n",
              "      <td>0.0</td>\n",
              "    </tr>\n",
              "  </tbody>\n",
              "</table>\n",
              "</div>"
            ],
            "text/plain": [
              "    Año  Clave_Ent         Entidad  ...  Octubre Noviembre Diciembre\n",
              "0  2015          1  Aguascalientes  ...      1.0       0.0       1.0\n",
              "1  2015          1  Aguascalientes  ...      0.0       0.0       0.0\n",
              "\n",
              "[2 rows x 21 columns]"
            ]
          },
          "metadata": {
            "tags": []
          },
          "execution_count": 11
        }
      ]
    },
    {
      "cell_type": "markdown",
      "metadata": {
        "id": "ExFDw82teuJ2"
      },
      "source": [
        "###**Import from Drive**"
      ]
    },
    {
      "cell_type": "markdown",
      "metadata": {
        "id": "7miBJEXkmLUK"
      },
      "source": [
        "Primeramente se importaron las librerías necesarias, tal cual el caso anterior."
      ]
    },
    {
      "cell_type": "code",
      "metadata": {
        "id": "dIBpGkrGqFVd"
      },
      "source": [
        "import pandas as pd"
      ],
      "execution_count": 3,
      "outputs": []
    },
    {
      "cell_type": "markdown",
      "metadata": {
        "id": "Ehush0kSuToa"
      },
      "source": [
        "A diferencia de importar los archivos desde nuestra computadora, aquí son almacenados previamente desde Google Drive, y mediante el siguiente código podemos traerlos a los archivos de nuestra Notebook. \r\n",
        "\r\n",
        "Cabe destacar que la dirección de la cual son obtenidos los archivos desde Google Drive varía de acuerdo a donde esté almacenado, por lo que en nuestro caso fue el siguiente."
      ]
    },
    {
      "cell_type": "code",
      "metadata": {
        "id": "XUDJSnwjqGVj",
        "colab": {
          "base_uri": "https://localhost:8080/"
        },
        "outputId": "67016803-75ee-48e8-b76e-069b197367fb"
      },
      "source": [
        "from google.colab import drive\r\n",
        "drive.mount('/content/drive/')\r\n",
        "!ls \"/content/drive/MyDrive/Data_Proy\""
      ],
      "execution_count": 1,
      "outputs": [
        {
          "output_type": "stream",
          "text": [
            "Mounted at /content/drive/\n",
            "'description analysis exploratorio.aac'\n",
            " Estatal-Delitos-2015-2021_ene2021.csv\n",
            " Municipal-Delitos-2015-2021_ene2021.csv\n"
          ],
          "name": "stdout"
        }
      ]
    },
    {
      "cell_type": "markdown",
      "metadata": {
        "id": "_UzFE2QRuca6"
      },
      "source": [
        "Una vez teniendo dichos archivos ya en el Notebook, se realiza la misma secuencia para leer los archivos .CSV mediante pandas, nombrándolos como \"df_estados\" y \"df_municipios\"."
      ]
    },
    {
      "cell_type": "code",
      "metadata": {
        "id": "S1oGzkMbrdzR"
      },
      "source": [
        "df_estados = pd.read_csv(\"/content/drive/MyDrive/Data_Proy/Estatal-Delitos-2015-2021_ene2021.csv\", encoding=\"latin-1\")\r\n",
        "df_municipios = pd.read_csv(\"/content/drive/MyDrive/Data_Proy/Municipal-Delitos-2015-2021_ene2021.csv\", encoding=\"latin-1\")"
      ],
      "execution_count": 4,
      "outputs": []
    },
    {
      "cell_type": "markdown",
      "metadata": {
        "id": "pBi1sW1uulg9"
      },
      "source": [
        "Finalmente para ver que nuestro dataframes fueron almacenados correctamente y explorar un poco su información se usó el comando \"head\""
      ]
    },
    {
      "cell_type": "code",
      "metadata": {
        "id": "WBkVdcyxuHVg",
        "colab": {
          "base_uri": "https://localhost:8080/",
          "height": 269
        },
        "outputId": "c2766c8c-e42a-468c-975a-6e02b3750268"
      },
      "source": [
        "df_estados.head(2)"
      ],
      "execution_count": null,
      "outputs": [
        {
          "output_type": "execute_result",
          "data": {
            "text/html": [
              "<div>\n",
              "<style scoped>\n",
              "    .dataframe tbody tr th:only-of-type {\n",
              "        vertical-align: middle;\n",
              "    }\n",
              "\n",
              "    .dataframe tbody tr th {\n",
              "        vertical-align: top;\n",
              "    }\n",
              "\n",
              "    .dataframe thead th {\n",
              "        text-align: right;\n",
              "    }\n",
              "</style>\n",
              "<table border=\"1\" class=\"dataframe\">\n",
              "  <thead>\n",
              "    <tr style=\"text-align: right;\">\n",
              "      <th></th>\n",
              "      <th>Año</th>\n",
              "      <th>Clave_Ent</th>\n",
              "      <th>Entidad</th>\n",
              "      <th>Bien jurídico afectado</th>\n",
              "      <th>Tipo de delito</th>\n",
              "      <th>Subtipo de delito</th>\n",
              "      <th>Modalidad</th>\n",
              "      <th>Enero</th>\n",
              "      <th>Febrero</th>\n",
              "      <th>Marzo</th>\n",
              "      <th>Abril</th>\n",
              "      <th>Mayo</th>\n",
              "      <th>Junio</th>\n",
              "      <th>Julio</th>\n",
              "      <th>Agosto</th>\n",
              "      <th>Septiembre</th>\n",
              "      <th>Octubre</th>\n",
              "      <th>Noviembre</th>\n",
              "      <th>Diciembre</th>\n",
              "    </tr>\n",
              "  </thead>\n",
              "  <tbody>\n",
              "    <tr>\n",
              "      <th>0</th>\n",
              "      <td>2015</td>\n",
              "      <td>1</td>\n",
              "      <td>Aguascalientes</td>\n",
              "      <td>La vida y la Integridad corporal</td>\n",
              "      <td>Homicidio</td>\n",
              "      <td>Homicidio doloso</td>\n",
              "      <td>Con arma de fuego</td>\n",
              "      <td>3</td>\n",
              "      <td>0</td>\n",
              "      <td>2</td>\n",
              "      <td>1</td>\n",
              "      <td>1</td>\n",
              "      <td>1</td>\n",
              "      <td>2</td>\n",
              "      <td>1</td>\n",
              "      <td>2</td>\n",
              "      <td>2</td>\n",
              "      <td>2.0</td>\n",
              "      <td>1.0</td>\n",
              "    </tr>\n",
              "    <tr>\n",
              "      <th>1</th>\n",
              "      <td>2015</td>\n",
              "      <td>1</td>\n",
              "      <td>Aguascalientes</td>\n",
              "      <td>La vida y la Integridad corporal</td>\n",
              "      <td>Homicidio</td>\n",
              "      <td>Homicidio doloso</td>\n",
              "      <td>Con arma blanca</td>\n",
              "      <td>1</td>\n",
              "      <td>1</td>\n",
              "      <td>0</td>\n",
              "      <td>0</td>\n",
              "      <td>0</td>\n",
              "      <td>1</td>\n",
              "      <td>0</td>\n",
              "      <td>1</td>\n",
              "      <td>0</td>\n",
              "      <td>0</td>\n",
              "      <td>0.0</td>\n",
              "      <td>1.0</td>\n",
              "    </tr>\n",
              "  </tbody>\n",
              "</table>\n",
              "</div>"
            ],
            "text/plain": [
              "    Año  Clave_Ent         Entidad  ... Octubre Noviembre Diciembre\n",
              "0  2015          1  Aguascalientes  ...       2       2.0       1.0\n",
              "1  2015          1  Aguascalientes  ...       0       0.0       1.0\n",
              "\n",
              "[2 rows x 19 columns]"
            ]
          },
          "metadata": {
            "tags": []
          },
          "execution_count": 14
        }
      ]
    },
    {
      "cell_type": "code",
      "metadata": {
        "id": "iGkmsumsCibk",
        "colab": {
          "base_uri": "https://localhost:8080/",
          "height": 269
        },
        "outputId": "1b1de994-e345-4a90-bec5-bdd1f9255459"
      },
      "source": [
        "df_municipios.head(2)"
      ],
      "execution_count": null,
      "outputs": [
        {
          "output_type": "execute_result",
          "data": {
            "text/html": [
              "<div>\n",
              "<style scoped>\n",
              "    .dataframe tbody tr th:only-of-type {\n",
              "        vertical-align: middle;\n",
              "    }\n",
              "\n",
              "    .dataframe tbody tr th {\n",
              "        vertical-align: top;\n",
              "    }\n",
              "\n",
              "    .dataframe thead th {\n",
              "        text-align: right;\n",
              "    }\n",
              "</style>\n",
              "<table border=\"1\" class=\"dataframe\">\n",
              "  <thead>\n",
              "    <tr style=\"text-align: right;\">\n",
              "      <th></th>\n",
              "      <th>Año</th>\n",
              "      <th>Clave_Ent</th>\n",
              "      <th>Entidad</th>\n",
              "      <th>Cve. Municipio</th>\n",
              "      <th>Municipio</th>\n",
              "      <th>Bien jurídico afectado</th>\n",
              "      <th>Tipo de delito</th>\n",
              "      <th>Subtipo de delito</th>\n",
              "      <th>Modalidad</th>\n",
              "      <th>Enero</th>\n",
              "      <th>Febrero</th>\n",
              "      <th>Marzo</th>\n",
              "      <th>Abril</th>\n",
              "      <th>Mayo</th>\n",
              "      <th>Junio</th>\n",
              "      <th>Julio</th>\n",
              "      <th>Agosto</th>\n",
              "      <th>Septiembre</th>\n",
              "      <th>Octubre</th>\n",
              "      <th>Noviembre</th>\n",
              "      <th>Diciembre</th>\n",
              "    </tr>\n",
              "  </thead>\n",
              "  <tbody>\n",
              "    <tr>\n",
              "      <th>0</th>\n",
              "      <td>2015</td>\n",
              "      <td>1</td>\n",
              "      <td>Aguascalientes</td>\n",
              "      <td>1001</td>\n",
              "      <td>Aguascalientes</td>\n",
              "      <td>La vida y la Integridad corporal</td>\n",
              "      <td>Homicidio</td>\n",
              "      <td>Homicidio doloso</td>\n",
              "      <td>Con arma de fuego</td>\n",
              "      <td>2</td>\n",
              "      <td>0.0</td>\n",
              "      <td>1.0</td>\n",
              "      <td>1.0</td>\n",
              "      <td>0.0</td>\n",
              "      <td>1.0</td>\n",
              "      <td>1.0</td>\n",
              "      <td>0.0</td>\n",
              "      <td>2.0</td>\n",
              "      <td>1.0</td>\n",
              "      <td>0.0</td>\n",
              "      <td>1.0</td>\n",
              "    </tr>\n",
              "    <tr>\n",
              "      <th>1</th>\n",
              "      <td>2015</td>\n",
              "      <td>1</td>\n",
              "      <td>Aguascalientes</td>\n",
              "      <td>1001</td>\n",
              "      <td>Aguascalientes</td>\n",
              "      <td>La vida y la Integridad corporal</td>\n",
              "      <td>Homicidio</td>\n",
              "      <td>Homicidio doloso</td>\n",
              "      <td>Con arma blanca</td>\n",
              "      <td>1</td>\n",
              "      <td>1.0</td>\n",
              "      <td>0.0</td>\n",
              "      <td>0.0</td>\n",
              "      <td>0.0</td>\n",
              "      <td>1.0</td>\n",
              "      <td>0.0</td>\n",
              "      <td>1.0</td>\n",
              "      <td>0.0</td>\n",
              "      <td>0.0</td>\n",
              "      <td>0.0</td>\n",
              "      <td>0.0</td>\n",
              "    </tr>\n",
              "  </tbody>\n",
              "</table>\n",
              "</div>"
            ],
            "text/plain": [
              "    Año  Clave_Ent         Entidad  ...  Octubre Noviembre Diciembre\n",
              "0  2015          1  Aguascalientes  ...      1.0       0.0       1.0\n",
              "1  2015          1  Aguascalientes  ...      0.0       0.0       0.0\n",
              "\n",
              "[2 rows x 21 columns]"
            ]
          },
          "metadata": {
            "tags": []
          },
          "execution_count": 15
        }
      ]
    },
    {
      "cell_type": "markdown",
      "metadata": {
        "id": "MxzG00JVNoMl"
      },
      "source": [
        "# **ANÁLISIS EXPLORATORIO DE DATOS**\r\n",
        "\r\n",
        "Una vez que hemos importado nuestros archivos vamos a empezar a analizar nuestro conjunto de datos usando pandas. Nos ayudamos con algunas preguntas que nos indicarán si nuestra información recolectada nos será de ayuda o no.\r\n",
        "\r\n",
        "1. **¿El conjunto de datos que tengo realmente me sirve para responder algunas de las preguntas que me planteé?**"
      ]
    },
    {
      "cell_type": "code",
      "metadata": {
        "colab": {
          "base_uri": "https://localhost:8080/",
          "height": 269
        },
        "id": "MEhkui93-_Im",
        "outputId": "ca658896-cd57-459f-af9e-f170648b47f6"
      },
      "source": [
        "#previamente se cargaron nuestros archivos csv y se asignaron a las variables df_estados y df_municipios\r\n",
        "df_estados = pd.DataFrame(df_estados)\r\n",
        "df_estados.head(2)"
      ],
      "execution_count": 5,
      "outputs": [
        {
          "output_type": "execute_result",
          "data": {
            "text/html": [
              "<div>\n",
              "<style scoped>\n",
              "    .dataframe tbody tr th:only-of-type {\n",
              "        vertical-align: middle;\n",
              "    }\n",
              "\n",
              "    .dataframe tbody tr th {\n",
              "        vertical-align: top;\n",
              "    }\n",
              "\n",
              "    .dataframe thead th {\n",
              "        text-align: right;\n",
              "    }\n",
              "</style>\n",
              "<table border=\"1\" class=\"dataframe\">\n",
              "  <thead>\n",
              "    <tr style=\"text-align: right;\">\n",
              "      <th></th>\n",
              "      <th>Año</th>\n",
              "      <th>Clave_Ent</th>\n",
              "      <th>Entidad</th>\n",
              "      <th>Bien jurídico afectado</th>\n",
              "      <th>Tipo de delito</th>\n",
              "      <th>Subtipo de delito</th>\n",
              "      <th>Modalidad</th>\n",
              "      <th>Enero</th>\n",
              "      <th>Febrero</th>\n",
              "      <th>Marzo</th>\n",
              "      <th>Abril</th>\n",
              "      <th>Mayo</th>\n",
              "      <th>Junio</th>\n",
              "      <th>Julio</th>\n",
              "      <th>Agosto</th>\n",
              "      <th>Septiembre</th>\n",
              "      <th>Octubre</th>\n",
              "      <th>Noviembre</th>\n",
              "      <th>Diciembre</th>\n",
              "    </tr>\n",
              "  </thead>\n",
              "  <tbody>\n",
              "    <tr>\n",
              "      <th>0</th>\n",
              "      <td>2015</td>\n",
              "      <td>1</td>\n",
              "      <td>Aguascalientes</td>\n",
              "      <td>La vida y la Integridad corporal</td>\n",
              "      <td>Homicidio</td>\n",
              "      <td>Homicidio doloso</td>\n",
              "      <td>Con arma de fuego</td>\n",
              "      <td>3</td>\n",
              "      <td>0</td>\n",
              "      <td>2</td>\n",
              "      <td>1</td>\n",
              "      <td>1</td>\n",
              "      <td>1</td>\n",
              "      <td>2</td>\n",
              "      <td>1</td>\n",
              "      <td>2</td>\n",
              "      <td>2</td>\n",
              "      <td>2.0</td>\n",
              "      <td>1.0</td>\n",
              "    </tr>\n",
              "    <tr>\n",
              "      <th>1</th>\n",
              "      <td>2015</td>\n",
              "      <td>1</td>\n",
              "      <td>Aguascalientes</td>\n",
              "      <td>La vida y la Integridad corporal</td>\n",
              "      <td>Homicidio</td>\n",
              "      <td>Homicidio doloso</td>\n",
              "      <td>Con arma blanca</td>\n",
              "      <td>1</td>\n",
              "      <td>1</td>\n",
              "      <td>0</td>\n",
              "      <td>0</td>\n",
              "      <td>0</td>\n",
              "      <td>1</td>\n",
              "      <td>0</td>\n",
              "      <td>1</td>\n",
              "      <td>0</td>\n",
              "      <td>0</td>\n",
              "      <td>0.0</td>\n",
              "      <td>1.0</td>\n",
              "    </tr>\n",
              "  </tbody>\n",
              "</table>\n",
              "</div>"
            ],
            "text/plain": [
              "    Año  Clave_Ent         Entidad  ... Octubre Noviembre Diciembre\n",
              "0  2015          1  Aguascalientes  ...       2       2.0       1.0\n",
              "1  2015          1  Aguascalientes  ...       0       0.0       1.0\n",
              "\n",
              "[2 rows x 19 columns]"
            ]
          },
          "metadata": {
            "tags": []
          },
          "execution_count": 5
        }
      ]
    },
    {
      "cell_type": "code",
      "metadata": {
        "colab": {
          "base_uri": "https://localhost:8080/",
          "height": 269
        },
        "id": "aLGaSPMt9Se-",
        "outputId": "c48ce173-b879-4c7b-b318-90c984a361eb"
      },
      "source": [
        "df_municipios = pd.DataFrame(df_municipios)\r\n",
        "df_municipios.head(2)"
      ],
      "execution_count": 6,
      "outputs": [
        {
          "output_type": "execute_result",
          "data": {
            "text/html": [
              "<div>\n",
              "<style scoped>\n",
              "    .dataframe tbody tr th:only-of-type {\n",
              "        vertical-align: middle;\n",
              "    }\n",
              "\n",
              "    .dataframe tbody tr th {\n",
              "        vertical-align: top;\n",
              "    }\n",
              "\n",
              "    .dataframe thead th {\n",
              "        text-align: right;\n",
              "    }\n",
              "</style>\n",
              "<table border=\"1\" class=\"dataframe\">\n",
              "  <thead>\n",
              "    <tr style=\"text-align: right;\">\n",
              "      <th></th>\n",
              "      <th>Año</th>\n",
              "      <th>Clave_Ent</th>\n",
              "      <th>Entidad</th>\n",
              "      <th>Cve. Municipio</th>\n",
              "      <th>Municipio</th>\n",
              "      <th>Bien jurídico afectado</th>\n",
              "      <th>Tipo de delito</th>\n",
              "      <th>Subtipo de delito</th>\n",
              "      <th>Modalidad</th>\n",
              "      <th>Enero</th>\n",
              "      <th>Febrero</th>\n",
              "      <th>Marzo</th>\n",
              "      <th>Abril</th>\n",
              "      <th>Mayo</th>\n",
              "      <th>Junio</th>\n",
              "      <th>Julio</th>\n",
              "      <th>Agosto</th>\n",
              "      <th>Septiembre</th>\n",
              "      <th>Octubre</th>\n",
              "      <th>Noviembre</th>\n",
              "      <th>Diciembre</th>\n",
              "    </tr>\n",
              "  </thead>\n",
              "  <tbody>\n",
              "    <tr>\n",
              "      <th>0</th>\n",
              "      <td>2015</td>\n",
              "      <td>1</td>\n",
              "      <td>Aguascalientes</td>\n",
              "      <td>1001</td>\n",
              "      <td>Aguascalientes</td>\n",
              "      <td>La vida y la Integridad corporal</td>\n",
              "      <td>Homicidio</td>\n",
              "      <td>Homicidio doloso</td>\n",
              "      <td>Con arma de fuego</td>\n",
              "      <td>2</td>\n",
              "      <td>0.0</td>\n",
              "      <td>1.0</td>\n",
              "      <td>1.0</td>\n",
              "      <td>0.0</td>\n",
              "      <td>1.0</td>\n",
              "      <td>1.0</td>\n",
              "      <td>0.0</td>\n",
              "      <td>2.0</td>\n",
              "      <td>1.0</td>\n",
              "      <td>0.0</td>\n",
              "      <td>1.0</td>\n",
              "    </tr>\n",
              "    <tr>\n",
              "      <th>1</th>\n",
              "      <td>2015</td>\n",
              "      <td>1</td>\n",
              "      <td>Aguascalientes</td>\n",
              "      <td>1001</td>\n",
              "      <td>Aguascalientes</td>\n",
              "      <td>La vida y la Integridad corporal</td>\n",
              "      <td>Homicidio</td>\n",
              "      <td>Homicidio doloso</td>\n",
              "      <td>Con arma blanca</td>\n",
              "      <td>1</td>\n",
              "      <td>1.0</td>\n",
              "      <td>0.0</td>\n",
              "      <td>0.0</td>\n",
              "      <td>0.0</td>\n",
              "      <td>1.0</td>\n",
              "      <td>0.0</td>\n",
              "      <td>1.0</td>\n",
              "      <td>0.0</td>\n",
              "      <td>0.0</td>\n",
              "      <td>0.0</td>\n",
              "      <td>0.0</td>\n",
              "    </tr>\n",
              "  </tbody>\n",
              "</table>\n",
              "</div>"
            ],
            "text/plain": [
              "    Año  Clave_Ent         Entidad  ...  Octubre Noviembre Diciembre\n",
              "0  2015          1  Aguascalientes  ...      1.0       0.0       1.0\n",
              "1  2015          1  Aguascalientes  ...      0.0       0.0       0.0\n",
              "\n",
              "[2 rows x 21 columns]"
            ]
          },
          "metadata": {
            "tags": []
          },
          "execution_count": 6
        }
      ]
    },
    {
      "cell_type": "code",
      "metadata": {
        "colab": {
          "base_uri": "https://localhost:8080/",
          "height": 338
        },
        "id": "6b7hwAZhHY6s",
        "outputId": "41ba2fd5-9bbf-46f1-f80b-f560dd95accb"
      },
      "source": [
        "df_municipios.tail(2)"
      ],
      "execution_count": null,
      "outputs": [
        {
          "output_type": "execute_result",
          "data": {
            "text/html": [
              "<div>\n",
              "<style scoped>\n",
              "    .dataframe tbody tr th:only-of-type {\n",
              "        vertical-align: middle;\n",
              "    }\n",
              "\n",
              "    .dataframe tbody tr th {\n",
              "        vertical-align: top;\n",
              "    }\n",
              "\n",
              "    .dataframe thead th {\n",
              "        text-align: right;\n",
              "    }\n",
              "</style>\n",
              "<table border=\"1\" class=\"dataframe\">\n",
              "  <thead>\n",
              "    <tr style=\"text-align: right;\">\n",
              "      <th></th>\n",
              "      <th>Año</th>\n",
              "      <th>Clave_Ent</th>\n",
              "      <th>Entidad</th>\n",
              "      <th>Cve. Municipio</th>\n",
              "      <th>Municipio</th>\n",
              "      <th>Bien jurídico afectado</th>\n",
              "      <th>Tipo de delito</th>\n",
              "      <th>Subtipo de delito</th>\n",
              "      <th>Modalidad</th>\n",
              "      <th>Enero</th>\n",
              "      <th>Febrero</th>\n",
              "      <th>Marzo</th>\n",
              "      <th>Abril</th>\n",
              "      <th>Mayo</th>\n",
              "      <th>Junio</th>\n",
              "      <th>Julio</th>\n",
              "      <th>Agosto</th>\n",
              "      <th>Septiembre</th>\n",
              "      <th>Octubre</th>\n",
              "      <th>Noviembre</th>\n",
              "      <th>Diciembre</th>\n",
              "    </tr>\n",
              "  </thead>\n",
              "  <tbody>\n",
              "    <tr>\n",
              "      <th>1588774</th>\n",
              "      <td>2021</td>\n",
              "      <td>32</td>\n",
              "      <td>Zacatecas</td>\n",
              "      <td>32058</td>\n",
              "      <td>Santa María de la Paz</td>\n",
              "      <td>Otros bienes jurídicos afectados (del fuero co...</td>\n",
              "      <td>Electorales</td>\n",
              "      <td>Electorales</td>\n",
              "      <td>Electorales</td>\n",
              "      <td>0</td>\n",
              "      <td>NaN</td>\n",
              "      <td>NaN</td>\n",
              "      <td>NaN</td>\n",
              "      <td>NaN</td>\n",
              "      <td>NaN</td>\n",
              "      <td>NaN</td>\n",
              "      <td>NaN</td>\n",
              "      <td>NaN</td>\n",
              "      <td>NaN</td>\n",
              "      <td>NaN</td>\n",
              "      <td>NaN</td>\n",
              "    </tr>\n",
              "    <tr>\n",
              "      <th>1588775</th>\n",
              "      <td>2021</td>\n",
              "      <td>32</td>\n",
              "      <td>Zacatecas</td>\n",
              "      <td>32058</td>\n",
              "      <td>Santa María de la Paz</td>\n",
              "      <td>Otros bienes jurídicos afectados (del fuero co...</td>\n",
              "      <td>Otros delitos del Fuero Común</td>\n",
              "      <td>Otros delitos del Fuero Común</td>\n",
              "      <td>Otros delitos del Fuero Común</td>\n",
              "      <td>0</td>\n",
              "      <td>NaN</td>\n",
              "      <td>NaN</td>\n",
              "      <td>NaN</td>\n",
              "      <td>NaN</td>\n",
              "      <td>NaN</td>\n",
              "      <td>NaN</td>\n",
              "      <td>NaN</td>\n",
              "      <td>NaN</td>\n",
              "      <td>NaN</td>\n",
              "      <td>NaN</td>\n",
              "      <td>NaN</td>\n",
              "    </tr>\n",
              "  </tbody>\n",
              "</table>\n",
              "</div>"
            ],
            "text/plain": [
              "          Año  Clave_Ent    Entidad  ...  Octubre Noviembre Diciembre\n",
              "1588774  2021         32  Zacatecas  ...      NaN       NaN       NaN\n",
              "1588775  2021         32  Zacatecas  ...      NaN       NaN       NaN\n",
              "\n",
              "[2 rows x 21 columns]"
            ]
          },
          "metadata": {
            "tags": []
          },
          "execution_count": 18
        }
      ]
    },
    {
      "cell_type": "markdown",
      "metadata": {
        "id": "lfaDpmt69XTx"
      },
      "source": [
        "_*Con un análisis rápido de nuestros data sets encotramos datos que incluyen información relevante a nuestra investigación, como lo son: tipos de delitos, estado de la República mexicana en donde ocurrieron y fecha en la que ocurrieron.\r\n",
        "Por lo tanto podemos ser positivos de que nuestras preguntas serán respondidas*_\r\n"
      ]
    },
    {
      "cell_type": "markdown",
      "metadata": {
        "id": "QEHZaqzFO2bX"
      },
      "source": [
        "2. **¿Qué tamaño tiene mi conjunto de datos? ¿Serán datos suficientes?**"
      ]
    },
    {
      "cell_type": "code",
      "metadata": {
        "colab": {
          "base_uri": "https://localhost:8080/"
        },
        "id": "KZNqYKnm-tlC",
        "outputId": "683e5298-a139-4bc0-9656-fd59f5d54d9a"
      },
      "source": [
        "df_estados.shape"
      ],
      "execution_count": null,
      "outputs": [
        {
          "output_type": "execute_result",
          "data": {
            "text/plain": [
              "(21952, 19)"
            ]
          },
          "metadata": {
            "tags": []
          },
          "execution_count": 19
        }
      ]
    },
    {
      "cell_type": "code",
      "metadata": {
        "id": "aYugxLEiO3RV",
        "colab": {
          "base_uri": "https://localhost:8080/"
        },
        "outputId": "70db994c-8e82-4f0b-a43a-bb3e23291dfe"
      },
      "source": [
        "df_municipios.shape"
      ],
      "execution_count": null,
      "outputs": [
        {
          "output_type": "execute_result",
          "data": {
            "text/plain": [
              "(1588776, 21)"
            ]
          },
          "metadata": {
            "tags": []
          },
          "execution_count": 20
        }
      ]
    },
    {
      "cell_type": "markdown",
      "metadata": {
        "id": "bqnVmRzDCtLr"
      },
      "source": [
        "*Vemos que nuestro data frame **`df_estados`** tiene 19 columnas y 21952 filas,, mientras que el data frame **`df_municipios`** cuenta con 21 columnas y 1588776 filas, esta diferencia de filas es posible que se deba a que nuestro segundo data frame agrega la información en donde los actos de violencia fueron registrados (columna de municipios).\r\n",
        "Debido a esto y a que ambos data sets fueron obtenidos del mismo lugar, en adelante solo se considerará **`df_municipios`** ya que la información está más completa agragando el campo de los municipios, mientras que **`df_estados`** es una recopilación de estos y estaríamos cometiendo un error de replica de datos*"
      ]
    },
    {
      "cell_type": "markdown",
      "metadata": {
        "id": "NWmkDP2YOLFM"
      },
      "source": [
        "3. **¿Qué columnas tengo y qué información tengo en cada una de esas columnas?**"
      ]
    },
    {
      "cell_type": "code",
      "metadata": {
        "id": "bPFjtk6iO3wM",
        "colab": {
          "base_uri": "https://localhost:8080/"
        },
        "outputId": "0f7c2a2e-b04a-4c48-862f-98cd0d73b894"
      },
      "source": [
        "df_municipios.columns"
      ],
      "execution_count": null,
      "outputs": [
        {
          "output_type": "execute_result",
          "data": {
            "text/plain": [
              "Index(['Año', 'Clave_Ent', 'Entidad', 'Cve. Municipio', 'Municipio',\n",
              "       'Bien jurídico afectado', 'Tipo de delito', 'Subtipo de delito',\n",
              "       'Modalidad', 'Enero', 'Febrero', 'Marzo', 'Abril', 'Mayo', 'Junio',\n",
              "       'Julio', 'Agosto', 'Septiembre', 'Octubre', 'Noviembre', 'Diciembre'],\n",
              "      dtype='object')"
            ]
          },
          "metadata": {
            "tags": []
          },
          "execution_count": 21
        }
      ]
    },
    {
      "cell_type": "markdown",
      "metadata": {
        "id": "sb6qN9NAG34p"
      },
      "source": [
        "- En la columna **`Año`** tenemos registros que empiezan en el 2015 y llegan hasta el 2021.\r\n",
        "- En **`Entidad`** yacen los nombres de los estados donde ocurren los hechos mientras que **`Caleve_Ent`** es la calve federativa de este estado.\r\n",
        "- Así en **`Municipio`** se agregan el municipio del estado correspondiente y **`Cve. Municipio`** es su clave única.\r\n",
        "- **`Bien jurídico afectado`** , **`Tipo de delito`**, **`Subtipo de delito`** y **`Modalidad`** son columnas que describen los delitos registrados.\r\n",
        "- Las columnas de **`Enero`**, **`Febrero`**, **`Marzo`**, **`Abril`**, **`Mayo`**, **`Junio`**, **`Julio`**, **`Agosto`**, **`Septiembre`**, **`Octubre`**, **`Noviembre`**, **`Diciembre`** son las sumas acumuladas de los registros por tipos de delito.\r\n"
      ]
    },
    {
      "cell_type": "markdown",
      "metadata": {
        "id": "IGT7kMBSO4Hm"
      },
      "source": [
        "\r\n",
        "\r\n",
        "####-\r\n",
        "4. **Los nombres que tienen mis columnas, ¿son el nombre más apropiado?** "
      ]
    },
    {
      "cell_type": "markdown",
      "metadata": {
        "id": "tf3PgQK_Jsok"
      },
      "source": [
        "- *Si, son descriptivas, simples y van de acuerdo a a la información que queremos obtener*"
      ]
    },
    {
      "cell_type": "markdown",
      "metadata": {
        "id": "_D-jNJyhPZ2O"
      },
      "source": [
        "####-\r\n",
        "5. **¿Qué tipos de datos tengo en cada columna? ¿Parecen ser el tipo correcto de datos? ¿O es un tipo de datos \"incorrecto\"?** "
      ]
    },
    {
      "cell_type": "code",
      "metadata": {
        "id": "rMMA2n2QPaXE",
        "colab": {
          "base_uri": "https://localhost:8080/"
        },
        "outputId": "c16dc49c-6d4a-4696-8a21-589e1cf663dc"
      },
      "source": [
        "df_municipios.dtypes"
      ],
      "execution_count": null,
      "outputs": [
        {
          "output_type": "execute_result",
          "data": {
            "text/plain": [
              "Año                         int64\n",
              "Clave_Ent                   int64\n",
              "Entidad                    object\n",
              "Cve. Municipio              int64\n",
              "Municipio                  object\n",
              "Bien jurídico afectado     object\n",
              "Tipo de delito             object\n",
              "Subtipo de delito          object\n",
              "Modalidad                  object\n",
              "Enero                       int64\n",
              "Febrero                   float64\n",
              "Marzo                     float64\n",
              "Abril                     float64\n",
              "Mayo                      float64\n",
              "Junio                     float64\n",
              "Julio                     float64\n",
              "Agosto                    float64\n",
              "Septiembre                float64\n",
              "Octubre                   float64\n",
              "Noviembre                 float64\n",
              "Diciembre                 float64\n",
              "dtype: object"
            ]
          },
          "metadata": {
            "tags": []
          },
          "execution_count": 22
        }
      ]
    },
    {
      "cell_type": "markdown",
      "metadata": {
        "id": "HD3Ai9YqKJKl"
      },
      "source": [
        "- *Las columnas tienen el tipo de dato correcto, especialmente nos interesa que las columnas de fecha como `Año` y los casos acumulados sean datos de tipo númerico.*"
      ]
    },
    {
      "cell_type": "markdown",
      "metadata": {
        "id": "yEp_AZ3iPazv"
      },
      "source": [
        "6. **Si selecciono algunas filas al azar y las observo, ¿estoy obteniendo los datos que debería? ¿o hay datos que parecen estar \"sucios\" o \"incorrectos\"?** "
      ]
    },
    {
      "cell_type": "code",
      "metadata": {
        "id": "OU3PfuhxPbfn",
        "colab": {
          "base_uri": "https://localhost:8080/",
          "height": 202
        },
        "outputId": "9ca996bd-c0cd-453a-c30b-b2b0b2425e8f"
      },
      "source": [
        "df_municipios.loc[[0,182,1112,45932,1588775], ['Año', 'Entidad', 'Municipio', 'Tipo de delito','Modalidad', 'Enero' ]]"
      ],
      "execution_count": null,
      "outputs": [
        {
          "output_type": "execute_result",
          "data": {
            "text/html": [
              "<div>\n",
              "<style scoped>\n",
              "    .dataframe tbody tr th:only-of-type {\n",
              "        vertical-align: middle;\n",
              "    }\n",
              "\n",
              "    .dataframe tbody tr th {\n",
              "        vertical-align: top;\n",
              "    }\n",
              "\n",
              "    .dataframe thead th {\n",
              "        text-align: right;\n",
              "    }\n",
              "</style>\n",
              "<table border=\"1\" class=\"dataframe\">\n",
              "  <thead>\n",
              "    <tr style=\"text-align: right;\">\n",
              "      <th></th>\n",
              "      <th>Año</th>\n",
              "      <th>Entidad</th>\n",
              "      <th>Municipio</th>\n",
              "      <th>Tipo de delito</th>\n",
              "      <th>Modalidad</th>\n",
              "      <th>Enero</th>\n",
              "    </tr>\n",
              "  </thead>\n",
              "  <tbody>\n",
              "    <tr>\n",
              "      <th>0</th>\n",
              "      <td>2015</td>\n",
              "      <td>Aguascalientes</td>\n",
              "      <td>Aguascalientes</td>\n",
              "      <td>Homicidio</td>\n",
              "      <td>Con arma de fuego</td>\n",
              "      <td>2</td>\n",
              "    </tr>\n",
              "    <tr>\n",
              "      <th>182</th>\n",
              "      <td>2015</td>\n",
              "      <td>Aguascalientes</td>\n",
              "      <td>Asientos</td>\n",
              "      <td>Otros delitos contra la familia</td>\n",
              "      <td>Otros delitos contra la familia</td>\n",
              "      <td>0</td>\n",
              "    </tr>\n",
              "    <tr>\n",
              "      <th>1112</th>\n",
              "      <td>2015</td>\n",
              "      <td>Baja California</td>\n",
              "      <td>Ensenada</td>\n",
              "      <td>Hostigamiento sexual</td>\n",
              "      <td>Hostigamiento sexual</td>\n",
              "      <td>4</td>\n",
              "    </tr>\n",
              "    <tr>\n",
              "      <th>45932</th>\n",
              "      <td>2015</td>\n",
              "      <td>Hidalgo</td>\n",
              "      <td>Emiliano Zapata</td>\n",
              "      <td>Robo</td>\n",
              "      <td>Robo de herramienta industrial o agrícola Sin ...</td>\n",
              "      <td>0</td>\n",
              "    </tr>\n",
              "    <tr>\n",
              "      <th>1588775</th>\n",
              "      <td>2021</td>\n",
              "      <td>Zacatecas</td>\n",
              "      <td>Santa María de la Paz</td>\n",
              "      <td>Otros delitos del Fuero Común</td>\n",
              "      <td>Otros delitos del Fuero Común</td>\n",
              "      <td>0</td>\n",
              "    </tr>\n",
              "  </tbody>\n",
              "</table>\n",
              "</div>"
            ],
            "text/plain": [
              "          Año  ... Enero\n",
              "0        2015  ...     2\n",
              "182      2015  ...     0\n",
              "1112     2015  ...     4\n",
              "45932    2015  ...     0\n",
              "1588775  2021  ...     0\n",
              "\n",
              "[5 rows x 6 columns]"
            ]
          },
          "metadata": {
            "tags": []
          },
          "execution_count": 30
        }
      ]
    },
    {
      "cell_type": "markdown",
      "metadata": {
        "id": "hT6CakauMt47"
      },
      "source": [
        "- *Hasta el momento todo parece ser correcto, los datos no muestran estar sucios*"
      ]
    },
    {
      "cell_type": "markdown",
      "metadata": {
        "id": "8Gh50OI8No4F"
      },
      "source": [
        "# **LIMPIEZA DE DATOS**\r\n",
        "\r\n"
      ]
    },
    {
      "cell_type": "code",
      "metadata": {
        "colab": {
          "base_uri": "https://localhost:8080/",
          "height": 861
        },
        "id": "BaMkRozF5uhK",
        "outputId": "49728cd7-6b53-40fc-b02d-143ffc9e22a6"
      },
      "source": [
        "#Este el el dataframe de los datos organizados por municipio\r\n",
        "df_municipios"
      ],
      "execution_count": null,
      "outputs": [
        {
          "output_type": "execute_result",
          "data": {
            "text/html": [
              "<div>\n",
              "<style scoped>\n",
              "    .dataframe tbody tr th:only-of-type {\n",
              "        vertical-align: middle;\n",
              "    }\n",
              "\n",
              "    .dataframe tbody tr th {\n",
              "        vertical-align: top;\n",
              "    }\n",
              "\n",
              "    .dataframe thead th {\n",
              "        text-align: right;\n",
              "    }\n",
              "</style>\n",
              "<table border=\"1\" class=\"dataframe\">\n",
              "  <thead>\n",
              "    <tr style=\"text-align: right;\">\n",
              "      <th></th>\n",
              "      <th>Año</th>\n",
              "      <th>Clave_Ent</th>\n",
              "      <th>Entidad</th>\n",
              "      <th>Cve. Municipio</th>\n",
              "      <th>Municipio</th>\n",
              "      <th>Bien jurídico afectado</th>\n",
              "      <th>Tipo de delito</th>\n",
              "      <th>Subtipo de delito</th>\n",
              "      <th>Modalidad</th>\n",
              "      <th>Enero</th>\n",
              "      <th>Febrero</th>\n",
              "      <th>Marzo</th>\n",
              "      <th>Abril</th>\n",
              "      <th>Mayo</th>\n",
              "      <th>Junio</th>\n",
              "      <th>Julio</th>\n",
              "      <th>Agosto</th>\n",
              "      <th>Septiembre</th>\n",
              "      <th>Octubre</th>\n",
              "      <th>Noviembre</th>\n",
              "      <th>Diciembre</th>\n",
              "    </tr>\n",
              "  </thead>\n",
              "  <tbody>\n",
              "    <tr>\n",
              "      <th>0</th>\n",
              "      <td>2015</td>\n",
              "      <td>1</td>\n",
              "      <td>Aguascalientes</td>\n",
              "      <td>1001</td>\n",
              "      <td>Aguascalientes</td>\n",
              "      <td>La vida y la Integridad corporal</td>\n",
              "      <td>Homicidio</td>\n",
              "      <td>Homicidio doloso</td>\n",
              "      <td>Con arma de fuego</td>\n",
              "      <td>2</td>\n",
              "      <td>0.0</td>\n",
              "      <td>1.0</td>\n",
              "      <td>1.0</td>\n",
              "      <td>0.0</td>\n",
              "      <td>1.0</td>\n",
              "      <td>1.0</td>\n",
              "      <td>0.0</td>\n",
              "      <td>2.0</td>\n",
              "      <td>1.0</td>\n",
              "      <td>0.0</td>\n",
              "      <td>1.0</td>\n",
              "    </tr>\n",
              "    <tr>\n",
              "      <th>1</th>\n",
              "      <td>2015</td>\n",
              "      <td>1</td>\n",
              "      <td>Aguascalientes</td>\n",
              "      <td>1001</td>\n",
              "      <td>Aguascalientes</td>\n",
              "      <td>La vida y la Integridad corporal</td>\n",
              "      <td>Homicidio</td>\n",
              "      <td>Homicidio doloso</td>\n",
              "      <td>Con arma blanca</td>\n",
              "      <td>1</td>\n",
              "      <td>1.0</td>\n",
              "      <td>0.0</td>\n",
              "      <td>0.0</td>\n",
              "      <td>0.0</td>\n",
              "      <td>1.0</td>\n",
              "      <td>0.0</td>\n",
              "      <td>1.0</td>\n",
              "      <td>0.0</td>\n",
              "      <td>0.0</td>\n",
              "      <td>0.0</td>\n",
              "      <td>0.0</td>\n",
              "    </tr>\n",
              "    <tr>\n",
              "      <th>2</th>\n",
              "      <td>2015</td>\n",
              "      <td>1</td>\n",
              "      <td>Aguascalientes</td>\n",
              "      <td>1001</td>\n",
              "      <td>Aguascalientes</td>\n",
              "      <td>La vida y la Integridad corporal</td>\n",
              "      <td>Homicidio</td>\n",
              "      <td>Homicidio doloso</td>\n",
              "      <td>Con otro elemento</td>\n",
              "      <td>0</td>\n",
              "      <td>0.0</td>\n",
              "      <td>1.0</td>\n",
              "      <td>1.0</td>\n",
              "      <td>3.0</td>\n",
              "      <td>2.0</td>\n",
              "      <td>0.0</td>\n",
              "      <td>1.0</td>\n",
              "      <td>2.0</td>\n",
              "      <td>0.0</td>\n",
              "      <td>0.0</td>\n",
              "      <td>0.0</td>\n",
              "    </tr>\n",
              "    <tr>\n",
              "      <th>3</th>\n",
              "      <td>2015</td>\n",
              "      <td>1</td>\n",
              "      <td>Aguascalientes</td>\n",
              "      <td>1001</td>\n",
              "      <td>Aguascalientes</td>\n",
              "      <td>La vida y la Integridad corporal</td>\n",
              "      <td>Homicidio</td>\n",
              "      <td>Homicidio doloso</td>\n",
              "      <td>No especificado</td>\n",
              "      <td>1</td>\n",
              "      <td>0.0</td>\n",
              "      <td>0.0</td>\n",
              "      <td>1.0</td>\n",
              "      <td>0.0</td>\n",
              "      <td>0.0</td>\n",
              "      <td>0.0</td>\n",
              "      <td>0.0</td>\n",
              "      <td>0.0</td>\n",
              "      <td>0.0</td>\n",
              "      <td>0.0</td>\n",
              "      <td>0.0</td>\n",
              "    </tr>\n",
              "    <tr>\n",
              "      <th>4</th>\n",
              "      <td>2015</td>\n",
              "      <td>1</td>\n",
              "      <td>Aguascalientes</td>\n",
              "      <td>1001</td>\n",
              "      <td>Aguascalientes</td>\n",
              "      <td>La vida y la Integridad corporal</td>\n",
              "      <td>Homicidio</td>\n",
              "      <td>Homicidio culposo</td>\n",
              "      <td>Con arma de fuego</td>\n",
              "      <td>0</td>\n",
              "      <td>0.0</td>\n",
              "      <td>0.0</td>\n",
              "      <td>0.0</td>\n",
              "      <td>1.0</td>\n",
              "      <td>0.0</td>\n",
              "      <td>0.0</td>\n",
              "      <td>0.0</td>\n",
              "      <td>0.0</td>\n",
              "      <td>0.0</td>\n",
              "      <td>0.0</td>\n",
              "      <td>0.0</td>\n",
              "    </tr>\n",
              "    <tr>\n",
              "      <th>...</th>\n",
              "      <td>...</td>\n",
              "      <td>...</td>\n",
              "      <td>...</td>\n",
              "      <td>...</td>\n",
              "      <td>...</td>\n",
              "      <td>...</td>\n",
              "      <td>...</td>\n",
              "      <td>...</td>\n",
              "      <td>...</td>\n",
              "      <td>...</td>\n",
              "      <td>...</td>\n",
              "      <td>...</td>\n",
              "      <td>...</td>\n",
              "      <td>...</td>\n",
              "      <td>...</td>\n",
              "      <td>...</td>\n",
              "      <td>...</td>\n",
              "      <td>...</td>\n",
              "      <td>...</td>\n",
              "      <td>...</td>\n",
              "      <td>...</td>\n",
              "    </tr>\n",
              "    <tr>\n",
              "      <th>1588771</th>\n",
              "      <td>2021</td>\n",
              "      <td>32</td>\n",
              "      <td>Zacatecas</td>\n",
              "      <td>32058</td>\n",
              "      <td>Santa María de la Paz</td>\n",
              "      <td>Otros bienes jurídicos afectados (del fuero co...</td>\n",
              "      <td>Falsificación</td>\n",
              "      <td>Falsificación</td>\n",
              "      <td>Falsificación</td>\n",
              "      <td>0</td>\n",
              "      <td>NaN</td>\n",
              "      <td>NaN</td>\n",
              "      <td>NaN</td>\n",
              "      <td>NaN</td>\n",
              "      <td>NaN</td>\n",
              "      <td>NaN</td>\n",
              "      <td>NaN</td>\n",
              "      <td>NaN</td>\n",
              "      <td>NaN</td>\n",
              "      <td>NaN</td>\n",
              "      <td>NaN</td>\n",
              "    </tr>\n",
              "    <tr>\n",
              "      <th>1588772</th>\n",
              "      <td>2021</td>\n",
              "      <td>32</td>\n",
              "      <td>Zacatecas</td>\n",
              "      <td>32058</td>\n",
              "      <td>Santa María de la Paz</td>\n",
              "      <td>Otros bienes jurídicos afectados (del fuero co...</td>\n",
              "      <td>Contra el medio ambiente</td>\n",
              "      <td>Contra el medio ambiente</td>\n",
              "      <td>Contra el medio ambiente</td>\n",
              "      <td>0</td>\n",
              "      <td>NaN</td>\n",
              "      <td>NaN</td>\n",
              "      <td>NaN</td>\n",
              "      <td>NaN</td>\n",
              "      <td>NaN</td>\n",
              "      <td>NaN</td>\n",
              "      <td>NaN</td>\n",
              "      <td>NaN</td>\n",
              "      <td>NaN</td>\n",
              "      <td>NaN</td>\n",
              "      <td>NaN</td>\n",
              "    </tr>\n",
              "    <tr>\n",
              "      <th>1588773</th>\n",
              "      <td>2021</td>\n",
              "      <td>32</td>\n",
              "      <td>Zacatecas</td>\n",
              "      <td>32058</td>\n",
              "      <td>Santa María de la Paz</td>\n",
              "      <td>Otros bienes jurídicos afectados (del fuero co...</td>\n",
              "      <td>Delitos cometidos por servidores públicos</td>\n",
              "      <td>Delitos cometidos por servidores públicos</td>\n",
              "      <td>Delitos cometidos por servidores públicos</td>\n",
              "      <td>0</td>\n",
              "      <td>NaN</td>\n",
              "      <td>NaN</td>\n",
              "      <td>NaN</td>\n",
              "      <td>NaN</td>\n",
              "      <td>NaN</td>\n",
              "      <td>NaN</td>\n",
              "      <td>NaN</td>\n",
              "      <td>NaN</td>\n",
              "      <td>NaN</td>\n",
              "      <td>NaN</td>\n",
              "      <td>NaN</td>\n",
              "    </tr>\n",
              "    <tr>\n",
              "      <th>1588774</th>\n",
              "      <td>2021</td>\n",
              "      <td>32</td>\n",
              "      <td>Zacatecas</td>\n",
              "      <td>32058</td>\n",
              "      <td>Santa María de la Paz</td>\n",
              "      <td>Otros bienes jurídicos afectados (del fuero co...</td>\n",
              "      <td>Electorales</td>\n",
              "      <td>Electorales</td>\n",
              "      <td>Electorales</td>\n",
              "      <td>0</td>\n",
              "      <td>NaN</td>\n",
              "      <td>NaN</td>\n",
              "      <td>NaN</td>\n",
              "      <td>NaN</td>\n",
              "      <td>NaN</td>\n",
              "      <td>NaN</td>\n",
              "      <td>NaN</td>\n",
              "      <td>NaN</td>\n",
              "      <td>NaN</td>\n",
              "      <td>NaN</td>\n",
              "      <td>NaN</td>\n",
              "    </tr>\n",
              "    <tr>\n",
              "      <th>1588775</th>\n",
              "      <td>2021</td>\n",
              "      <td>32</td>\n",
              "      <td>Zacatecas</td>\n",
              "      <td>32058</td>\n",
              "      <td>Santa María de la Paz</td>\n",
              "      <td>Otros bienes jurídicos afectados (del fuero co...</td>\n",
              "      <td>Otros delitos del Fuero Común</td>\n",
              "      <td>Otros delitos del Fuero Común</td>\n",
              "      <td>Otros delitos del Fuero Común</td>\n",
              "      <td>0</td>\n",
              "      <td>NaN</td>\n",
              "      <td>NaN</td>\n",
              "      <td>NaN</td>\n",
              "      <td>NaN</td>\n",
              "      <td>NaN</td>\n",
              "      <td>NaN</td>\n",
              "      <td>NaN</td>\n",
              "      <td>NaN</td>\n",
              "      <td>NaN</td>\n",
              "      <td>NaN</td>\n",
              "      <td>NaN</td>\n",
              "    </tr>\n",
              "  </tbody>\n",
              "</table>\n",
              "<p>1588776 rows × 21 columns</p>\n",
              "</div>"
            ],
            "text/plain": [
              "          Año  Clave_Ent         Entidad  ...  Octubre Noviembre Diciembre\n",
              "0        2015          1  Aguascalientes  ...      1.0       0.0       1.0\n",
              "1        2015          1  Aguascalientes  ...      0.0       0.0       0.0\n",
              "2        2015          1  Aguascalientes  ...      0.0       0.0       0.0\n",
              "3        2015          1  Aguascalientes  ...      0.0       0.0       0.0\n",
              "4        2015          1  Aguascalientes  ...      0.0       0.0       0.0\n",
              "...       ...        ...             ...  ...      ...       ...       ...\n",
              "1588771  2021         32       Zacatecas  ...      NaN       NaN       NaN\n",
              "1588772  2021         32       Zacatecas  ...      NaN       NaN       NaN\n",
              "1588773  2021         32       Zacatecas  ...      NaN       NaN       NaN\n",
              "1588774  2021         32       Zacatecas  ...      NaN       NaN       NaN\n",
              "1588775  2021         32       Zacatecas  ...      NaN       NaN       NaN\n",
              "\n",
              "[1588776 rows x 21 columns]"
            ]
          },
          "metadata": {
            "tags": []
          },
          "execution_count": 92
        }
      ]
    },
    {
      "cell_type": "code",
      "metadata": {
        "colab": {
          "base_uri": "https://localhost:8080/"
        },
        "id": "DTn5wYZy28R2",
        "outputId": "0030b003-3950-4d5c-86ef-edc272f44c65"
      },
      "source": [
        "#En este bloque se analiza si existe prescencias de nans en nuetsro dataframe\r\n",
        "df_municipios.isna().sum(axis=0)"
      ],
      "execution_count": 7,
      "outputs": [
        {
          "output_type": "execute_result",
          "data": {
            "text/plain": [
              "Año                            0\n",
              "Clave_Ent                      0\n",
              "Entidad                        0\n",
              "Cve. Municipio                 0\n",
              "Municipio                      0\n",
              "Bien jurídico afectado         0\n",
              "Tipo de delito                 0\n",
              "Subtipo de delito              0\n",
              "Modalidad                      0\n",
              "Enero                          0\n",
              "Febrero                   242158\n",
              "Marzo                     242158\n",
              "Abril                     242158\n",
              "Mayo                      242158\n",
              "Junio                     242158\n",
              "Julio                     242158\n",
              "Agosto                    242158\n",
              "Septiembre                242158\n",
              "Octubre                   242158\n",
              "Noviembre                 242158\n",
              "Diciembre                 242158\n",
              "dtype: int64"
            ]
          },
          "metadata": {
            "tags": []
          },
          "execution_count": 7
        }
      ]
    },
    {
      "cell_type": "code",
      "metadata": {
        "id": "oml0HS2p5pMO"
      },
      "source": [
        "#En este bloque se elimina los nans\r\n",
        "df_municipioslimpio= df_municipios.dropna(axis=0, how='any')"
      ],
      "execution_count": 8,
      "outputs": []
    },
    {
      "cell_type": "code",
      "metadata": {
        "colab": {
          "base_uri": "https://localhost:8080/"
        },
        "id": "i1y3Gnso9a_V",
        "outputId": "e4c46733-c147-49e2-e0bc-b529b1ad7445"
      },
      "source": [
        "#Aqui se corrobora si el codigo anterior se ejecuto de manera correcta\r\n",
        "df_municipioslimpio.isna().sum(axis=0)"
      ],
      "execution_count": 9,
      "outputs": [
        {
          "output_type": "execute_result",
          "data": {
            "text/plain": [
              "Año                       0\n",
              "Clave_Ent                 0\n",
              "Entidad                   0\n",
              "Cve. Municipio            0\n",
              "Municipio                 0\n",
              "Bien jurídico afectado    0\n",
              "Tipo de delito            0\n",
              "Subtipo de delito         0\n",
              "Modalidad                 0\n",
              "Enero                     0\n",
              "Febrero                   0\n",
              "Marzo                     0\n",
              "Abril                     0\n",
              "Mayo                      0\n",
              "Junio                     0\n",
              "Julio                     0\n",
              "Agosto                    0\n",
              "Septiembre                0\n",
              "Octubre                   0\n",
              "Noviembre                 0\n",
              "Diciembre                 0\n",
              "dtype: int64"
            ]
          },
          "metadata": {
            "tags": []
          },
          "execution_count": 9
        }
      ]
    },
    {
      "cell_type": "code",
      "metadata": {
        "colab": {
          "base_uri": "https://localhost:8080/",
          "height": 1000
        },
        "id": "KJmE82-u9fsW",
        "outputId": "7557cead-2a19-405e-caa9-98b829750cea"
      },
      "source": [
        "df_municipioslimpio"
      ],
      "execution_count": 10,
      "outputs": [
        {
          "output_type": "execute_result",
          "data": {
            "text/html": [
              "<div>\n",
              "<style scoped>\n",
              "    .dataframe tbody tr th:only-of-type {\n",
              "        vertical-align: middle;\n",
              "    }\n",
              "\n",
              "    .dataframe tbody tr th {\n",
              "        vertical-align: top;\n",
              "    }\n",
              "\n",
              "    .dataframe thead th {\n",
              "        text-align: right;\n",
              "    }\n",
              "</style>\n",
              "<table border=\"1\" class=\"dataframe\">\n",
              "  <thead>\n",
              "    <tr style=\"text-align: right;\">\n",
              "      <th></th>\n",
              "      <th>Año</th>\n",
              "      <th>Clave_Ent</th>\n",
              "      <th>Entidad</th>\n",
              "      <th>Cve. Municipio</th>\n",
              "      <th>Municipio</th>\n",
              "      <th>Bien jurídico afectado</th>\n",
              "      <th>Tipo de delito</th>\n",
              "      <th>Subtipo de delito</th>\n",
              "      <th>Modalidad</th>\n",
              "      <th>Enero</th>\n",
              "      <th>Febrero</th>\n",
              "      <th>Marzo</th>\n",
              "      <th>Abril</th>\n",
              "      <th>Mayo</th>\n",
              "      <th>Junio</th>\n",
              "      <th>Julio</th>\n",
              "      <th>Agosto</th>\n",
              "      <th>Septiembre</th>\n",
              "      <th>Octubre</th>\n",
              "      <th>Noviembre</th>\n",
              "      <th>Diciembre</th>\n",
              "    </tr>\n",
              "  </thead>\n",
              "  <tbody>\n",
              "    <tr>\n",
              "      <th>0</th>\n",
              "      <td>2015</td>\n",
              "      <td>1</td>\n",
              "      <td>Aguascalientes</td>\n",
              "      <td>1001</td>\n",
              "      <td>Aguascalientes</td>\n",
              "      <td>La vida y la Integridad corporal</td>\n",
              "      <td>Homicidio</td>\n",
              "      <td>Homicidio doloso</td>\n",
              "      <td>Con arma de fuego</td>\n",
              "      <td>2</td>\n",
              "      <td>0.0</td>\n",
              "      <td>1.0</td>\n",
              "      <td>1.0</td>\n",
              "      <td>0.0</td>\n",
              "      <td>1.0</td>\n",
              "      <td>1.0</td>\n",
              "      <td>0.0</td>\n",
              "      <td>2.0</td>\n",
              "      <td>1.0</td>\n",
              "      <td>0.0</td>\n",
              "      <td>1.0</td>\n",
              "    </tr>\n",
              "    <tr>\n",
              "      <th>1</th>\n",
              "      <td>2015</td>\n",
              "      <td>1</td>\n",
              "      <td>Aguascalientes</td>\n",
              "      <td>1001</td>\n",
              "      <td>Aguascalientes</td>\n",
              "      <td>La vida y la Integridad corporal</td>\n",
              "      <td>Homicidio</td>\n",
              "      <td>Homicidio doloso</td>\n",
              "      <td>Con arma blanca</td>\n",
              "      <td>1</td>\n",
              "      <td>1.0</td>\n",
              "      <td>0.0</td>\n",
              "      <td>0.0</td>\n",
              "      <td>0.0</td>\n",
              "      <td>1.0</td>\n",
              "      <td>0.0</td>\n",
              "      <td>1.0</td>\n",
              "      <td>0.0</td>\n",
              "      <td>0.0</td>\n",
              "      <td>0.0</td>\n",
              "      <td>0.0</td>\n",
              "    </tr>\n",
              "    <tr>\n",
              "      <th>2</th>\n",
              "      <td>2015</td>\n",
              "      <td>1</td>\n",
              "      <td>Aguascalientes</td>\n",
              "      <td>1001</td>\n",
              "      <td>Aguascalientes</td>\n",
              "      <td>La vida y la Integridad corporal</td>\n",
              "      <td>Homicidio</td>\n",
              "      <td>Homicidio doloso</td>\n",
              "      <td>Con otro elemento</td>\n",
              "      <td>0</td>\n",
              "      <td>0.0</td>\n",
              "      <td>1.0</td>\n",
              "      <td>1.0</td>\n",
              "      <td>3.0</td>\n",
              "      <td>2.0</td>\n",
              "      <td>0.0</td>\n",
              "      <td>1.0</td>\n",
              "      <td>2.0</td>\n",
              "      <td>0.0</td>\n",
              "      <td>0.0</td>\n",
              "      <td>0.0</td>\n",
              "    </tr>\n",
              "    <tr>\n",
              "      <th>3</th>\n",
              "      <td>2015</td>\n",
              "      <td>1</td>\n",
              "      <td>Aguascalientes</td>\n",
              "      <td>1001</td>\n",
              "      <td>Aguascalientes</td>\n",
              "      <td>La vida y la Integridad corporal</td>\n",
              "      <td>Homicidio</td>\n",
              "      <td>Homicidio doloso</td>\n",
              "      <td>No especificado</td>\n",
              "      <td>1</td>\n",
              "      <td>0.0</td>\n",
              "      <td>0.0</td>\n",
              "      <td>1.0</td>\n",
              "      <td>0.0</td>\n",
              "      <td>0.0</td>\n",
              "      <td>0.0</td>\n",
              "      <td>0.0</td>\n",
              "      <td>0.0</td>\n",
              "      <td>0.0</td>\n",
              "      <td>0.0</td>\n",
              "      <td>0.0</td>\n",
              "    </tr>\n",
              "    <tr>\n",
              "      <th>4</th>\n",
              "      <td>2015</td>\n",
              "      <td>1</td>\n",
              "      <td>Aguascalientes</td>\n",
              "      <td>1001</td>\n",
              "      <td>Aguascalientes</td>\n",
              "      <td>La vida y la Integridad corporal</td>\n",
              "      <td>Homicidio</td>\n",
              "      <td>Homicidio culposo</td>\n",
              "      <td>Con arma de fuego</td>\n",
              "      <td>0</td>\n",
              "      <td>0.0</td>\n",
              "      <td>0.0</td>\n",
              "      <td>0.0</td>\n",
              "      <td>1.0</td>\n",
              "      <td>0.0</td>\n",
              "      <td>0.0</td>\n",
              "      <td>0.0</td>\n",
              "      <td>0.0</td>\n",
              "      <td>0.0</td>\n",
              "      <td>0.0</td>\n",
              "      <td>0.0</td>\n",
              "    </tr>\n",
              "    <tr>\n",
              "      <th>...</th>\n",
              "      <td>...</td>\n",
              "      <td>...</td>\n",
              "      <td>...</td>\n",
              "      <td>...</td>\n",
              "      <td>...</td>\n",
              "      <td>...</td>\n",
              "      <td>...</td>\n",
              "      <td>...</td>\n",
              "      <td>...</td>\n",
              "      <td>...</td>\n",
              "      <td>...</td>\n",
              "      <td>...</td>\n",
              "      <td>...</td>\n",
              "      <td>...</td>\n",
              "      <td>...</td>\n",
              "      <td>...</td>\n",
              "      <td>...</td>\n",
              "      <td>...</td>\n",
              "      <td>...</td>\n",
              "      <td>...</td>\n",
              "      <td>...</td>\n",
              "    </tr>\n",
              "    <tr>\n",
              "      <th>1346613</th>\n",
              "      <td>2020</td>\n",
              "      <td>32</td>\n",
              "      <td>Zacatecas</td>\n",
              "      <td>32058</td>\n",
              "      <td>Santa María de la Paz</td>\n",
              "      <td>Otros bienes jurídicos afectados (del fuero co...</td>\n",
              "      <td>Falsificación</td>\n",
              "      <td>Falsificación</td>\n",
              "      <td>Falsificación</td>\n",
              "      <td>0</td>\n",
              "      <td>0.0</td>\n",
              "      <td>0.0</td>\n",
              "      <td>0.0</td>\n",
              "      <td>0.0</td>\n",
              "      <td>0.0</td>\n",
              "      <td>0.0</td>\n",
              "      <td>0.0</td>\n",
              "      <td>0.0</td>\n",
              "      <td>0.0</td>\n",
              "      <td>0.0</td>\n",
              "      <td>0.0</td>\n",
              "    </tr>\n",
              "    <tr>\n",
              "      <th>1346614</th>\n",
              "      <td>2020</td>\n",
              "      <td>32</td>\n",
              "      <td>Zacatecas</td>\n",
              "      <td>32058</td>\n",
              "      <td>Santa María de la Paz</td>\n",
              "      <td>Otros bienes jurídicos afectados (del fuero co...</td>\n",
              "      <td>Contra el medio ambiente</td>\n",
              "      <td>Contra el medio ambiente</td>\n",
              "      <td>Contra el medio ambiente</td>\n",
              "      <td>0</td>\n",
              "      <td>0.0</td>\n",
              "      <td>0.0</td>\n",
              "      <td>0.0</td>\n",
              "      <td>0.0</td>\n",
              "      <td>0.0</td>\n",
              "      <td>0.0</td>\n",
              "      <td>0.0</td>\n",
              "      <td>0.0</td>\n",
              "      <td>0.0</td>\n",
              "      <td>0.0</td>\n",
              "      <td>0.0</td>\n",
              "    </tr>\n",
              "    <tr>\n",
              "      <th>1346615</th>\n",
              "      <td>2020</td>\n",
              "      <td>32</td>\n",
              "      <td>Zacatecas</td>\n",
              "      <td>32058</td>\n",
              "      <td>Santa María de la Paz</td>\n",
              "      <td>Otros bienes jurídicos afectados (del fuero co...</td>\n",
              "      <td>Delitos cometidos por servidores públicos</td>\n",
              "      <td>Delitos cometidos por servidores públicos</td>\n",
              "      <td>Delitos cometidos por servidores públicos</td>\n",
              "      <td>0</td>\n",
              "      <td>0.0</td>\n",
              "      <td>0.0</td>\n",
              "      <td>0.0</td>\n",
              "      <td>0.0</td>\n",
              "      <td>0.0</td>\n",
              "      <td>0.0</td>\n",
              "      <td>0.0</td>\n",
              "      <td>0.0</td>\n",
              "      <td>0.0</td>\n",
              "      <td>0.0</td>\n",
              "      <td>0.0</td>\n",
              "    </tr>\n",
              "    <tr>\n",
              "      <th>1346616</th>\n",
              "      <td>2020</td>\n",
              "      <td>32</td>\n",
              "      <td>Zacatecas</td>\n",
              "      <td>32058</td>\n",
              "      <td>Santa María de la Paz</td>\n",
              "      <td>Otros bienes jurídicos afectados (del fuero co...</td>\n",
              "      <td>Electorales</td>\n",
              "      <td>Electorales</td>\n",
              "      <td>Electorales</td>\n",
              "      <td>0</td>\n",
              "      <td>0.0</td>\n",
              "      <td>0.0</td>\n",
              "      <td>0.0</td>\n",
              "      <td>0.0</td>\n",
              "      <td>0.0</td>\n",
              "      <td>0.0</td>\n",
              "      <td>0.0</td>\n",
              "      <td>0.0</td>\n",
              "      <td>0.0</td>\n",
              "      <td>0.0</td>\n",
              "      <td>0.0</td>\n",
              "    </tr>\n",
              "    <tr>\n",
              "      <th>1346617</th>\n",
              "      <td>2020</td>\n",
              "      <td>32</td>\n",
              "      <td>Zacatecas</td>\n",
              "      <td>32058</td>\n",
              "      <td>Santa María de la Paz</td>\n",
              "      <td>Otros bienes jurídicos afectados (del fuero co...</td>\n",
              "      <td>Otros delitos del Fuero Común</td>\n",
              "      <td>Otros delitos del Fuero Común</td>\n",
              "      <td>Otros delitos del Fuero Común</td>\n",
              "      <td>1</td>\n",
              "      <td>0.0</td>\n",
              "      <td>0.0</td>\n",
              "      <td>0.0</td>\n",
              "      <td>0.0</td>\n",
              "      <td>0.0</td>\n",
              "      <td>0.0</td>\n",
              "      <td>0.0</td>\n",
              "      <td>0.0</td>\n",
              "      <td>1.0</td>\n",
              "      <td>0.0</td>\n",
              "      <td>1.0</td>\n",
              "    </tr>\n",
              "  </tbody>\n",
              "</table>\n",
              "<p>1346618 rows × 21 columns</p>\n",
              "</div>"
            ],
            "text/plain": [
              "          Año  Clave_Ent         Entidad  ...  Octubre Noviembre Diciembre\n",
              "0        2015          1  Aguascalientes  ...      1.0       0.0       1.0\n",
              "1        2015          1  Aguascalientes  ...      0.0       0.0       0.0\n",
              "2        2015          1  Aguascalientes  ...      0.0       0.0       0.0\n",
              "3        2015          1  Aguascalientes  ...      0.0       0.0       0.0\n",
              "4        2015          1  Aguascalientes  ...      0.0       0.0       0.0\n",
              "...       ...        ...             ...  ...      ...       ...       ...\n",
              "1346613  2020         32       Zacatecas  ...      0.0       0.0       0.0\n",
              "1346614  2020         32       Zacatecas  ...      0.0       0.0       0.0\n",
              "1346615  2020         32       Zacatecas  ...      0.0       0.0       0.0\n",
              "1346616  2020         32       Zacatecas  ...      0.0       0.0       0.0\n",
              "1346617  2020         32       Zacatecas  ...      1.0       0.0       1.0\n",
              "\n",
              "[1346618 rows x 21 columns]"
            ]
          },
          "metadata": {
            "tags": []
          },
          "execution_count": 10
        }
      ]
    },
    {
      "cell_type": "code",
      "metadata": {
        "colab": {
          "base_uri": "https://localhost:8080/"
        },
        "id": "06XDwTncFvSY",
        "outputId": "2074a3f5-d657-431a-b460-fda70bf72281"
      },
      "source": [
        "#En esta parte scaamos la suma por mes de todos los años\r\n",
        "mes=['Enero', 'Febrero', 'Marzo', 'Abril', 'Mayo', 'Junio', 'Julio', 'Agosto', 'Septiembre','Octubre','Noviembre','Diciembre']\r\n",
        "for i in range(0,11):\r\n",
        "  print('La suma del mes de ', mes[i], ' = ',  df_municipioslimpio[mes[i]].sum())"
      ],
      "execution_count": 11,
      "outputs": [
        {
          "output_type": "stream",
          "text": [
            "La suma del mes de  Enero  =  894267\n",
            "La suma del mes de  Febrero  =  896080.0\n",
            "La suma del mes de  Marzo  =  970568.0\n",
            "La suma del mes de  Abril  =  902224.0\n",
            "La suma del mes de  Mayo  =  951787.0\n",
            "La suma del mes de  Junio  =  949497.0\n",
            "La suma del mes de  Julio  =  948792.0\n",
            "La suma del mes de  Agosto  =  973212.0\n",
            "La suma del mes de  Septiembre  =  950207.0\n",
            "La suma del mes de  Octubre  =  1001677.0\n",
            "La suma del mes de  Noviembre  =  928524.0\n"
          ],
          "name": "stdout"
        }
      ]
    },
    {
      "cell_type": "code",
      "metadata": {
        "colab": {
          "base_uri": "https://localhost:8080/"
        },
        "id": "OV9-WC57Xqul",
        "outputId": "4fa2b0e1-2ead-43f1-8e9f-52dbd34e1a79"
      },
      "source": [
        "#En esta parte sacamos el minimo por mes de todos los años\r\n",
        "for i in range(0,11):\r\n",
        "  print('El min del mes de ', mes[i], ' =',  df_municipioslimpio[mes[i]].min())"
      ],
      "execution_count": 12,
      "outputs": [
        {
          "output_type": "stream",
          "text": [
            "El min del mes de  Enero  = 0\n",
            "El min del mes de  Febrero  = 0.0\n",
            "El min del mes de  Marzo  = 0.0\n",
            "El min del mes de  Abril  = 0.0\n",
            "El min del mes de  Mayo  = -1.0\n",
            "El min del mes de  Junio  = 0.0\n",
            "El min del mes de  Julio  = 0.0\n",
            "El min del mes de  Agosto  = 0.0\n",
            "El min del mes de  Septiembre  = -1.0\n",
            "El min del mes de  Octubre  = 0.0\n",
            "El min del mes de  Noviembre  = 0.0\n"
          ],
          "name": "stdout"
        }
      ]
    },
    {
      "cell_type": "code",
      "metadata": {
        "id": "Rii4DEYQXuFS"
      },
      "source": [
        "#Nos percatamos que habia un error en nuestro dataframe donde habia un -1 cuando\r\n",
        "#suponemos que tendria que ser 1 por ende tenemos que limpiar los datos nuevamente"
      ],
      "execution_count": null,
      "outputs": []
    },
    {
      "cell_type": "code",
      "metadata": {
        "colab": {
          "base_uri": "https://localhost:8080/"
        },
        "id": "p5x0PWsLZXDf",
        "outputId": "11a3e3a9-3cb9-422c-e67b-7663ea684388"
      },
      "source": [
        "df_municipioslimpio['Mayo']=df_municipioslimpio['Mayo'].replace([-1],1)\r\n",
        "df_municipioslimpio['Septiembre']=df_municipioslimpio['Septiembre'].replace([-1],1)"
      ],
      "execution_count": 13,
      "outputs": [
        {
          "output_type": "stream",
          "text": [
            "/usr/local/lib/python3.7/dist-packages/ipykernel_launcher.py:1: SettingWithCopyWarning: \n",
            "A value is trying to be set on a copy of a slice from a DataFrame.\n",
            "Try using .loc[row_indexer,col_indexer] = value instead\n",
            "\n",
            "See the caveats in the documentation: https://pandas.pydata.org/pandas-docs/stable/user_guide/indexing.html#returning-a-view-versus-a-copy\n",
            "  \"\"\"Entry point for launching an IPython kernel.\n",
            "/usr/local/lib/python3.7/dist-packages/ipykernel_launcher.py:2: SettingWithCopyWarning: \n",
            "A value is trying to be set on a copy of a slice from a DataFrame.\n",
            "Try using .loc[row_indexer,col_indexer] = value instead\n",
            "\n",
            "See the caveats in the documentation: https://pandas.pydata.org/pandas-docs/stable/user_guide/indexing.html#returning-a-view-versus-a-copy\n",
            "  \n"
          ],
          "name": "stderr"
        }
      ]
    },
    {
      "cell_type": "code",
      "metadata": {
        "colab": {
          "base_uri": "https://localhost:8080/"
        },
        "id": "HNs8nFdLZrTs",
        "outputId": "92be66c7-03d8-4880-cdad-b492284a4bdc"
      },
      "source": [
        "#En esta parte sacamos el minimo por mes de todos los años\r\n",
        "for i in range(0,11):\r\n",
        "  print('El min del mes de ', mes[i], ' =',  df_municipioslimpio[mes[i]].min())"
      ],
      "execution_count": 14,
      "outputs": [
        {
          "output_type": "stream",
          "text": [
            "El min del mes de  Enero  = 0\n",
            "El min del mes de  Febrero  = 0.0\n",
            "El min del mes de  Marzo  = 0.0\n",
            "El min del mes de  Abril  = 0.0\n",
            "El min del mes de  Mayo  = 0.0\n",
            "El min del mes de  Junio  = 0.0\n",
            "El min del mes de  Julio  = 0.0\n",
            "El min del mes de  Agosto  = 0.0\n",
            "El min del mes de  Septiembre  = 0.0\n",
            "El min del mes de  Octubre  = 0.0\n",
            "El min del mes de  Noviembre  = 0.0\n"
          ],
          "name": "stdout"
        }
      ]
    },
    {
      "cell_type": "code",
      "metadata": {
        "colab": {
          "base_uri": "https://localhost:8080/"
        },
        "id": "rdML-icObbZg",
        "outputId": "25f223e4-709b-474f-fe68-be75df6f9c6f"
      },
      "source": [
        "#En esta parte sacamos el maximo por mes de todos los años\r\n",
        "for i in range(0,11):\r\n",
        "  print('El max del mes de ', mes[i], ' =',  df_municipioslimpio[mes[i]].max())"
      ],
      "execution_count": 15,
      "outputs": [
        {
          "output_type": "stream",
          "text": [
            "El max del mes de  Enero  = 1146\n",
            "El max del mes de  Febrero  = 1212.0\n",
            "El max del mes de  Marzo  = 1471.0\n",
            "El max del mes de  Abril  = 1445.0\n",
            "El max del mes de  Mayo  = 1444.0\n",
            "El max del mes de  Junio  = 958.0\n",
            "El max del mes de  Julio  = 1219.0\n",
            "El max del mes de  Agosto  = 1140.0\n",
            "El max del mes de  Septiembre  = 1099.0\n",
            "El max del mes de  Octubre  = 1023.0\n",
            "El max del mes de  Noviembre  = 1156.0\n"
          ],
          "name": "stdout"
        }
      ]
    },
    {
      "cell_type": "markdown",
      "metadata": {
        "id": "qMxg0k-zNqzE"
      },
      "source": [
        "# **TRANSFORMACIÓN DE DATOS**"
      ]
    },
    {
      "cell_type": "code",
      "metadata": {
        "id": "EKd0qosQNrSM"
      },
      "source": [
        ""
      ],
      "execution_count": null,
      "outputs": []
    }
  ]
}
